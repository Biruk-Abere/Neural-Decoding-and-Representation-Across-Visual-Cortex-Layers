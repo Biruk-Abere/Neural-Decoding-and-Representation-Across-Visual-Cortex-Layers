{
 "cells": [
  {
   "cell_type": "code",
   "execution_count": 1,
   "id": "c8e1a040",
   "metadata": {},
   "outputs": [],
   "source": [
    "# imports for this notebook\n",
    "import matplotlib.pyplot as plt\n",
    "import numpy as np\n",
    "import pandas as pd\n",
    "%matplotlib inline"
   ]
  },
  {
   "cell_type": "code",
   "execution_count": 2,
   "id": "9ef752c9",
   "metadata": {},
   "outputs": [],
   "source": [
    "# standard data access code\n",
    "import os\n",
    "import platform\n",
    "from allensdk.core.brain_observatory_cache import BrainObservatoryCache\n",
    "\n",
    "# Set file location based on platform. \n",
    "platstring = platform.platform()\n",
    "if ('Darwin' in platstring) or ('macOS' in platstring):\n",
    "    # macOS \n",
    "    data_root = \"/Volumes/TReND2024/\"\n",
    "elif 'Windows'  in platstring:\n",
    "    # Windows (replace with the drive letter of USB drive)\n",
    "    data_root = \"E:/\"\n",
    "elif ('amzn' in platstring):\n",
    "    # then on Code Ocean\n",
    "    data_root = \"/data/\"\n",
    "else:\n",
    "    # then your own linux platform\n",
    "    # EDIT location where you mounted hard drive\n",
    "    data_root = \"/media/$USERNAME/TReND2024/\"\n",
    "\n",
    "manifest_file = os.path.join(data_root,'allen-brain-observatory/visual-coding-2p/manifest.json')\n",
    "boc = BrainObservatoryCache(manifest_file=manifest_file)"
   ]
  },
  {
   "cell_type": "code",
   "execution_count": 3,
   "id": "305bf99d",
   "metadata": {},
   "outputs": [],
   "source": [
    "from allensdk.core.brain_observatory_cache import BrainObservatoryCache\n",
    "\n",
    "#This instantiates the Brain Observatory Cache\n",
    "boc = BrainObservatoryCache(manifest_file=manifest_file)"
   ]
  },
  {
   "cell_type": "code",
   "execution_count": 4,
   "id": "b7b41237",
   "metadata": {},
   "outputs": [
    {
     "data": {
      "text/plain": [
       "['VISal', 'VISam', 'VISl', 'VISp', 'VISpm', 'VISrl']"
      ]
     },
     "execution_count": 4,
     "metadata": {},
     "output_type": "execute_result"
    }
   ],
   "source": [
    "# have the areas\n",
    "boc.get_all_targeted_structures() # The different regions of the brain "
   ]
  },
  {
   "cell_type": "code",
   "execution_count": 5,
   "id": "c1a77642",
   "metadata": {},
   "outputs": [],
   "source": [
    "visual_area = \"VISp\""
   ]
  },
  {
   "cell_type": "markdown",
   "id": "16a6bc39",
   "metadata": {},
   "source": [
    "### The number of experiments in the VISal visual area "
   ]
  },
  {
   "cell_type": "code",
   "execution_count": 6,
   "id": "9821d4b4",
   "metadata": {},
   "outputs": [],
   "source": [
    "exps = boc.get_experiment_containers(targeted_structures=[visual_area])"
   ]
  },
  {
   "cell_type": "code",
   "execution_count": 7,
   "id": "1659b5a6",
   "metadata": {},
   "outputs": [
    {
     "data": {
      "text/plain": [
       "144"
      ]
     },
     "execution_count": 7,
     "metadata": {},
     "output_type": "execute_result"
    }
   ],
   "source": [
    "len(exps) # the number experiments in the Visal visual area"
   ]
  },
  {
   "cell_type": "markdown",
   "id": "73c6f188",
   "metadata": {},
   "source": [
    "### The total number of experiments that we have in the visual cortex "
   ]
  },
  {
   "cell_type": "code",
   "execution_count": 8,
   "id": "456dff3e",
   "metadata": {},
   "outputs": [
    {
     "data": {
      "text/plain": [
       "456"
      ]
     },
     "execution_count": 8,
     "metadata": {},
     "output_type": "execute_result"
    }
   ],
   "source": [
    "len(boc.get_experiment_containers()) # the whole experiments "
   ]
  },
  {
   "cell_type": "code",
   "execution_count": 9,
   "id": "465480de",
   "metadata": {},
   "outputs": [
    {
     "name": "stdout",
     "output_type": "stream",
     "text": [
      "41\n",
      "38\n",
      "106\n",
      "144\n",
      "87\n",
      "40\n"
     ]
    }
   ],
   "source": [
    "visual_area1 = \"VISal\"\n",
    "exps1 = boc.get_experiment_containers(targeted_structures=[visual_area1])\n",
    "print(len(exps1))\n",
    "visual_area2 = \"VISam\"\n",
    "exps2 = boc.get_experiment_containers(targeted_structures=[visual_area2])\n",
    "print(len(exps2))\n",
    "visual_area3 = \"VISl\"\n",
    "exps3 = boc.get_experiment_containers(targeted_structures=[visual_area3])\n",
    "print(len(exps3))\n",
    "visual_area4 = \"VISp\"\n",
    "exps4 = boc.get_experiment_containers(targeted_structures=[visual_area4])\n",
    "print(len(exps4))\n",
    "visual_area5 = \"VISpm\"\n",
    "exps5 = boc.get_experiment_containers(targeted_structures=[visual_area5])\n",
    "print(len(exps5))\n",
    "visual_area6 = \"VISrl\"\n",
    "exps6 = boc.get_experiment_containers(targeted_structures=[visual_area6])\n",
    "print(len(exps6))"
   ]
  },
  {
   "cell_type": "code",
   "execution_count": 10,
   "id": "4c09fb15",
   "metadata": {},
   "outputs": [
    {
     "name": "stdout",
     "output_type": "stream",
     "text": [
      "456\n"
     ]
    }
   ],
   "source": [
    "print(len(exps1) + len(exps2) + len(exps3) + len(exps4) + len(exps5) + len(exps6))"
   ]
  },
  {
   "cell_type": "code",
   "execution_count": 11,
   "id": "585bdb1f",
   "metadata": {},
   "outputs": [],
   "source": [
    "all_depth = boc.get_all_imaging_depths()"
   ]
  },
  {
   "cell_type": "code",
   "execution_count": 12,
   "id": "3a68d728",
   "metadata": {},
   "outputs": [
    {
     "name": "stdout",
     "output_type": "stream",
     "text": [
      "[175, 185, 195, 200, 205, 225, 250, 265, 275, 276, 285, 300, 320, 325, 335, 350, 365, 375, 390, 400, 550, 570, 625]\n"
     ]
    }
   ],
   "source": [
    "print(all_depth)"
   ]
  },
  {
   "cell_type": "code",
   "execution_count": 13,
   "id": "c3e7e55c",
   "metadata": {},
   "outputs": [],
   "source": [
    "main_area = \"VISp\"\n",
    "exps = boc.get_experiment_containers(targeted_structures=[main_area])"
   ]
  },
  {
   "cell_type": "code",
   "execution_count": 14,
   "id": "d1c39adc",
   "metadata": {},
   "outputs": [
    {
     "data": {
      "text/html": [
       "<div>\n",
       "<style scoped>\n",
       "    .dataframe tbody tr th:only-of-type {\n",
       "        vertical-align: middle;\n",
       "    }\n",
       "\n",
       "    .dataframe tbody tr th {\n",
       "        vertical-align: top;\n",
       "    }\n",
       "\n",
       "    .dataframe thead th {\n",
       "        text-align: right;\n",
       "    }\n",
       "</style>\n",
       "<table border=\"1\" class=\"dataframe\">\n",
       "  <thead>\n",
       "    <tr style=\"text-align: right;\">\n",
       "      <th></th>\n",
       "      <th>id</th>\n",
       "      <th>imaging_depth</th>\n",
       "      <th>targeted_structure</th>\n",
       "      <th>cre_line</th>\n",
       "      <th>reporter_line</th>\n",
       "      <th>donor_name</th>\n",
       "      <th>specimen_name</th>\n",
       "      <th>tags</th>\n",
       "      <th>failed</th>\n",
       "    </tr>\n",
       "  </thead>\n",
       "  <tbody>\n",
       "    <tr>\n",
       "      <th>0</th>\n",
       "      <td>661437138</td>\n",
       "      <td>175</td>\n",
       "      <td>VISp</td>\n",
       "      <td>Slc17a7-IRES2-Cre</td>\n",
       "      <td>Ai93(TITL-GCaMP6f)</td>\n",
       "      <td>365251</td>\n",
       "      <td>Slc17a7-IRES2-Cre;Camk2a-tTA;Ai93-365251</td>\n",
       "      <td>[]</td>\n",
       "      <td>False</td>\n",
       "    </tr>\n",
       "    <tr>\n",
       "      <th>1</th>\n",
       "      <td>511510911</td>\n",
       "      <td>350</td>\n",
       "      <td>VISp</td>\n",
       "      <td>Scnn1a-Tg3-Cre</td>\n",
       "      <td>Ai93(TITL-GCaMP6f)</td>\n",
       "      <td>230570</td>\n",
       "      <td>Scnn1a-Tg3-Cre;Camk2a-tTA;Ai93-230570</td>\n",
       "      <td>[]</td>\n",
       "      <td>False</td>\n",
       "    </tr>\n",
       "    <tr>\n",
       "      <th>2</th>\n",
       "      <td>644909309</td>\n",
       "      <td>550</td>\n",
       "      <td>VISp</td>\n",
       "      <td>Ntsr1-Cre_GN220</td>\n",
       "      <td>Ai148(TIT2L-GC6f-ICL-tTA2)</td>\n",
       "      <td>348105</td>\n",
       "      <td>Ntsr1-Cre_GN220;Ai148-348105</td>\n",
       "      <td>[]</td>\n",
       "      <td>False</td>\n",
       "    </tr>\n",
       "    <tr>\n",
       "      <th>3</th>\n",
       "      <td>511510736</td>\n",
       "      <td>175</td>\n",
       "      <td>VISp</td>\n",
       "      <td>Cux2-CreERT2</td>\n",
       "      <td>Ai93(TITL-GCaMP6f)</td>\n",
       "      <td>222426</td>\n",
       "      <td>Cux2-CreERT2;Camk2a-tTA;Ai93-222426</td>\n",
       "      <td>[]</td>\n",
       "      <td>False</td>\n",
       "    </tr>\n",
       "    <tr>\n",
       "      <th>4</th>\n",
       "      <td>528792730</td>\n",
       "      <td>350</td>\n",
       "      <td>VISp</td>\n",
       "      <td>Nr5a1-Cre</td>\n",
       "      <td>Ai93(TITL-GCaMP6f)</td>\n",
       "      <td>248894</td>\n",
       "      <td>Nr5a1-Cre;Camk2a-tTA;Ai93-248894</td>\n",
       "      <td>[]</td>\n",
       "      <td>False</td>\n",
       "    </tr>\n",
       "  </tbody>\n",
       "</table>\n",
       "</div>"
      ],
      "text/plain": [
       "          id  imaging_depth targeted_structure           cre_line  \\\n",
       "0  661437138            175               VISp  Slc17a7-IRES2-Cre   \n",
       "1  511510911            350               VISp     Scnn1a-Tg3-Cre   \n",
       "2  644909309            550               VISp    Ntsr1-Cre_GN220   \n",
       "3  511510736            175               VISp       Cux2-CreERT2   \n",
       "4  528792730            350               VISp          Nr5a1-Cre   \n",
       "\n",
       "                reporter_line donor_name  \\\n",
       "0          Ai93(TITL-GCaMP6f)     365251   \n",
       "1          Ai93(TITL-GCaMP6f)     230570   \n",
       "2  Ai148(TIT2L-GC6f-ICL-tTA2)     348105   \n",
       "3          Ai93(TITL-GCaMP6f)     222426   \n",
       "4          Ai93(TITL-GCaMP6f)     248894   \n",
       "\n",
       "                              specimen_name tags  failed  \n",
       "0  Slc17a7-IRES2-Cre;Camk2a-tTA;Ai93-365251   []   False  \n",
       "1     Scnn1a-Tg3-Cre;Camk2a-tTA;Ai93-230570   []   False  \n",
       "2              Ntsr1-Cre_GN220;Ai148-348105   []   False  \n",
       "3       Cux2-CreERT2;Camk2a-tTA;Ai93-222426   []   False  \n",
       "4          Nr5a1-Cre;Camk2a-tTA;Ai93-248894   []   False  "
      ]
     },
     "execution_count": 14,
     "metadata": {},
     "output_type": "execute_result"
    }
   ],
   "source": [
    "data = pd.DataFrame(exps)\n",
    "data.head()"
   ]
  },
  {
   "cell_type": "code",
   "execution_count": 15,
   "id": "ee1dab8a",
   "metadata": {},
   "outputs": [
    {
     "name": "stdout",
     "output_type": "stream",
     "text": [
      "144\n"
     ]
    }
   ],
   "source": [
    "print(len(data))"
   ]
  },
  {
   "cell_type": "code",
   "execution_count": 16,
   "id": "dc99f30f",
   "metadata": {},
   "outputs": [
    {
     "data": {
      "text/plain": [
       "0      175\n",
       "1      350\n",
       "2      550\n",
       "3      175\n",
       "4      350\n",
       "      ... \n",
       "139    175\n",
       "140    275\n",
       "141    275\n",
       "142    275\n",
       "143    375\n",
       "Name: imaging_depth, Length: 144, dtype: int64"
      ]
     },
     "execution_count": 16,
     "metadata": {},
     "output_type": "execute_result"
    }
   ],
   "source": [
    "data[\"imaging_depth\"]"
   ]
  },
  {
   "cell_type": "code",
   "execution_count": 17,
   "id": "7a090142",
   "metadata": {},
   "outputs": [
    {
     "data": {
      "text/html": [
       "<div>\n",
       "<style scoped>\n",
       "    .dataframe tbody tr th:only-of-type {\n",
       "        vertical-align: middle;\n",
       "    }\n",
       "\n",
       "    .dataframe tbody tr th {\n",
       "        vertical-align: top;\n",
       "    }\n",
       "\n",
       "    .dataframe thead th {\n",
       "        text-align: right;\n",
       "    }\n",
       "</style>\n",
       "<table border=\"1\" class=\"dataframe\">\n",
       "  <thead>\n",
       "    <tr style=\"text-align: right;\">\n",
       "      <th></th>\n",
       "      <th>id</th>\n",
       "      <th>imaging_depth</th>\n",
       "      <th>targeted_structure</th>\n",
       "      <th>cre_line</th>\n",
       "      <th>reporter_line</th>\n",
       "      <th>donor_name</th>\n",
       "      <th>specimen_name</th>\n",
       "      <th>tags</th>\n",
       "      <th>failed</th>\n",
       "      <th>Cortical_Layer</th>\n",
       "    </tr>\n",
       "  </thead>\n",
       "  <tbody>\n",
       "    <tr>\n",
       "      <th>0</th>\n",
       "      <td>661437138</td>\n",
       "      <td>175</td>\n",
       "      <td>VISp</td>\n",
       "      <td>Slc17a7-IRES2-Cre</td>\n",
       "      <td>Ai93(TITL-GCaMP6f)</td>\n",
       "      <td>365251</td>\n",
       "      <td>Slc17a7-IRES2-Cre;Camk2a-tTA;Ai93-365251</td>\n",
       "      <td>[]</td>\n",
       "      <td>False</td>\n",
       "      <td>Layer 2/3</td>\n",
       "    </tr>\n",
       "    <tr>\n",
       "      <th>1</th>\n",
       "      <td>511510911</td>\n",
       "      <td>350</td>\n",
       "      <td>VISp</td>\n",
       "      <td>Scnn1a-Tg3-Cre</td>\n",
       "      <td>Ai93(TITL-GCaMP6f)</td>\n",
       "      <td>230570</td>\n",
       "      <td>Scnn1a-Tg3-Cre;Camk2a-tTA;Ai93-230570</td>\n",
       "      <td>[]</td>\n",
       "      <td>False</td>\n",
       "      <td>Layer 5</td>\n",
       "    </tr>\n",
       "    <tr>\n",
       "      <th>2</th>\n",
       "      <td>644909309</td>\n",
       "      <td>550</td>\n",
       "      <td>VISp</td>\n",
       "      <td>Ntsr1-Cre_GN220</td>\n",
       "      <td>Ai148(TIT2L-GC6f-ICL-tTA2)</td>\n",
       "      <td>348105</td>\n",
       "      <td>Ntsr1-Cre_GN220;Ai148-348105</td>\n",
       "      <td>[]</td>\n",
       "      <td>False</td>\n",
       "      <td>Layer 6</td>\n",
       "    </tr>\n",
       "    <tr>\n",
       "      <th>3</th>\n",
       "      <td>511510736</td>\n",
       "      <td>175</td>\n",
       "      <td>VISp</td>\n",
       "      <td>Cux2-CreERT2</td>\n",
       "      <td>Ai93(TITL-GCaMP6f)</td>\n",
       "      <td>222426</td>\n",
       "      <td>Cux2-CreERT2;Camk2a-tTA;Ai93-222426</td>\n",
       "      <td>[]</td>\n",
       "      <td>False</td>\n",
       "      <td>Layer 2/3</td>\n",
       "    </tr>\n",
       "    <tr>\n",
       "      <th>4</th>\n",
       "      <td>528792730</td>\n",
       "      <td>350</td>\n",
       "      <td>VISp</td>\n",
       "      <td>Nr5a1-Cre</td>\n",
       "      <td>Ai93(TITL-GCaMP6f)</td>\n",
       "      <td>248894</td>\n",
       "      <td>Nr5a1-Cre;Camk2a-tTA;Ai93-248894</td>\n",
       "      <td>[]</td>\n",
       "      <td>False</td>\n",
       "      <td>Layer 5</td>\n",
       "    </tr>\n",
       "    <tr>\n",
       "      <th>...</th>\n",
       "      <td>...</td>\n",
       "      <td>...</td>\n",
       "      <td>...</td>\n",
       "      <td>...</td>\n",
       "      <td>...</td>\n",
       "      <td>...</td>\n",
       "      <td>...</td>\n",
       "      <td>...</td>\n",
       "      <td>...</td>\n",
       "      <td>...</td>\n",
       "    </tr>\n",
       "    <tr>\n",
       "      <th>139</th>\n",
       "      <td>511510718</td>\n",
       "      <td>175</td>\n",
       "      <td>VISp</td>\n",
       "      <td>Cux2-CreERT2</td>\n",
       "      <td>Ai93(TITL-GCaMP6f)</td>\n",
       "      <td>231584</td>\n",
       "      <td>Cux2-CreERT2;Camk2a-tTA;Ai93-231584</td>\n",
       "      <td>[]</td>\n",
       "      <td>False</td>\n",
       "      <td>Layer 2/3</td>\n",
       "    </tr>\n",
       "    <tr>\n",
       "      <th>140</th>\n",
       "      <td>511510989</td>\n",
       "      <td>275</td>\n",
       "      <td>VISp</td>\n",
       "      <td>Rorb-IRES2-Cre</td>\n",
       "      <td>Ai93(TITL-GCaMP6f)</td>\n",
       "      <td>222431</td>\n",
       "      <td>Rorb-IRES2-Cre;Camk2a-tTA;Ai93-222431</td>\n",
       "      <td>[]</td>\n",
       "      <td>False</td>\n",
       "      <td>Layer 4</td>\n",
       "    </tr>\n",
       "    <tr>\n",
       "      <th>141</th>\n",
       "      <td>527676429</td>\n",
       "      <td>275</td>\n",
       "      <td>VISp</td>\n",
       "      <td>Emx1-IRES-Cre</td>\n",
       "      <td>Ai93(TITL-GCaMP6f)</td>\n",
       "      <td>237706</td>\n",
       "      <td>Emx1-IRES-Cre;Camk2a-tTA;Ai93-237706</td>\n",
       "      <td>[Epileptiform Events]</td>\n",
       "      <td>False</td>\n",
       "      <td>Layer 4</td>\n",
       "    </tr>\n",
       "    <tr>\n",
       "      <th>142</th>\n",
       "      <td>580043437</td>\n",
       "      <td>275</td>\n",
       "      <td>VISp</td>\n",
       "      <td>Sst-IRES-Cre</td>\n",
       "      <td>Ai148(TIT2L-GC6f-ICL-tTA2)</td>\n",
       "      <td>297504</td>\n",
       "      <td>Sst-IRES-Cre;Ai148(CAM)-297504</td>\n",
       "      <td>[]</td>\n",
       "      <td>False</td>\n",
       "      <td>Layer 4</td>\n",
       "    </tr>\n",
       "    <tr>\n",
       "      <th>143</th>\n",
       "      <td>637669268</td>\n",
       "      <td>375</td>\n",
       "      <td>VISp</td>\n",
       "      <td>Tlx3-Cre_PL56</td>\n",
       "      <td>Ai148(TIT2L-GC6f-ICL-tTA2)</td>\n",
       "      <td>340427</td>\n",
       "      <td>Tlx3-Cre_PL56;Ai148-340427</td>\n",
       "      <td>[]</td>\n",
       "      <td>False</td>\n",
       "      <td>Layer 5</td>\n",
       "    </tr>\n",
       "  </tbody>\n",
       "</table>\n",
       "<p>144 rows × 10 columns</p>\n",
       "</div>"
      ],
      "text/plain": [
       "            id  imaging_depth targeted_structure           cre_line  \\\n",
       "0    661437138            175               VISp  Slc17a7-IRES2-Cre   \n",
       "1    511510911            350               VISp     Scnn1a-Tg3-Cre   \n",
       "2    644909309            550               VISp    Ntsr1-Cre_GN220   \n",
       "3    511510736            175               VISp       Cux2-CreERT2   \n",
       "4    528792730            350               VISp          Nr5a1-Cre   \n",
       "..         ...            ...                ...                ...   \n",
       "139  511510718            175               VISp       Cux2-CreERT2   \n",
       "140  511510989            275               VISp     Rorb-IRES2-Cre   \n",
       "141  527676429            275               VISp      Emx1-IRES-Cre   \n",
       "142  580043437            275               VISp       Sst-IRES-Cre   \n",
       "143  637669268            375               VISp      Tlx3-Cre_PL56   \n",
       "\n",
       "                  reporter_line donor_name  \\\n",
       "0            Ai93(TITL-GCaMP6f)     365251   \n",
       "1            Ai93(TITL-GCaMP6f)     230570   \n",
       "2    Ai148(TIT2L-GC6f-ICL-tTA2)     348105   \n",
       "3            Ai93(TITL-GCaMP6f)     222426   \n",
       "4            Ai93(TITL-GCaMP6f)     248894   \n",
       "..                          ...        ...   \n",
       "139          Ai93(TITL-GCaMP6f)     231584   \n",
       "140          Ai93(TITL-GCaMP6f)     222431   \n",
       "141          Ai93(TITL-GCaMP6f)     237706   \n",
       "142  Ai148(TIT2L-GC6f-ICL-tTA2)     297504   \n",
       "143  Ai148(TIT2L-GC6f-ICL-tTA2)     340427   \n",
       "\n",
       "                                specimen_name                   tags  failed  \\\n",
       "0    Slc17a7-IRES2-Cre;Camk2a-tTA;Ai93-365251                     []   False   \n",
       "1       Scnn1a-Tg3-Cre;Camk2a-tTA;Ai93-230570                     []   False   \n",
       "2                Ntsr1-Cre_GN220;Ai148-348105                     []   False   \n",
       "3         Cux2-CreERT2;Camk2a-tTA;Ai93-222426                     []   False   \n",
       "4            Nr5a1-Cre;Camk2a-tTA;Ai93-248894                     []   False   \n",
       "..                                        ...                    ...     ...   \n",
       "139       Cux2-CreERT2;Camk2a-tTA;Ai93-231584                     []   False   \n",
       "140     Rorb-IRES2-Cre;Camk2a-tTA;Ai93-222431                     []   False   \n",
       "141      Emx1-IRES-Cre;Camk2a-tTA;Ai93-237706  [Epileptiform Events]   False   \n",
       "142            Sst-IRES-Cre;Ai148(CAM)-297504                     []   False   \n",
       "143                Tlx3-Cre_PL56;Ai148-340427                     []   False   \n",
       "\n",
       "    Cortical_Layer  \n",
       "0        Layer 2/3  \n",
       "1          Layer 5  \n",
       "2          Layer 6  \n",
       "3        Layer 2/3  \n",
       "4          Layer 5  \n",
       "..             ...  \n",
       "139      Layer 2/3  \n",
       "140        Layer 4  \n",
       "141        Layer 4  \n",
       "142        Layer 4  \n",
       "143        Layer 5  \n",
       "\n",
       "[144 rows x 10 columns]"
      ]
     },
     "execution_count": 17,
     "metadata": {},
     "output_type": "execute_result"
    }
   ],
   "source": [
    "# Define the conditions for different cortical layers\n",
    "conditions = [\n",
    "    (data['imaging_depth'] < 250),                        # Layer 2/3\n",
    "    (data['imaging_depth'] >= 250) & (data['imaging_depth'] < 350), # Layer 4\n",
    "    (data['imaging_depth'] >= 350) & (data['imaging_depth'] < 500), # Layer 5\n",
    "    (data['imaging_depth'] >= 500)                         # Layer 6\n",
    "]\n",
    "\n",
    "# Define the layer labels\n",
    "layer_labels = ['Layer 2/3', 'Layer 4', 'Layer 5', 'Layer 6']\n",
    "\n",
    "# Create a new column 'Cortical_Layer' using numpy select\n",
    "data['Cortical_Layer'] = np.select(conditions, layer_labels)\n",
    "\n",
    "# Display the DataFrame with the new column\n",
    "data\n"
   ]
  },
  {
   "cell_type": "code",
   "execution_count": 18,
   "id": "06492f78",
   "metadata": {},
   "outputs": [],
   "source": [
    "df_layer2_3 = data[data[\"Cortical_Layer\"] == \"Layer 2/3\"]"
   ]
  },
  {
   "cell_type": "code",
   "execution_count": 19,
   "id": "3691cacf",
   "metadata": {},
   "outputs": [
    {
     "data": {
      "text/plain": [
       "35"
      ]
     },
     "execution_count": 19,
     "metadata": {},
     "output_type": "execute_result"
    }
   ],
   "source": [
    "len(df_layer2_3)"
   ]
  },
  {
   "cell_type": "code",
   "execution_count": 20,
   "id": "1af6c50b",
   "metadata": {},
   "outputs": [
    {
     "data": {
      "text/html": [
       "<div>\n",
       "<style scoped>\n",
       "    .dataframe tbody tr th:only-of-type {\n",
       "        vertical-align: middle;\n",
       "    }\n",
       "\n",
       "    .dataframe tbody tr th {\n",
       "        vertical-align: top;\n",
       "    }\n",
       "\n",
       "    .dataframe thead th {\n",
       "        text-align: right;\n",
       "    }\n",
       "</style>\n",
       "<table border=\"1\" class=\"dataframe\">\n",
       "  <thead>\n",
       "    <tr style=\"text-align: right;\">\n",
       "      <th></th>\n",
       "      <th>id</th>\n",
       "      <th>imaging_depth</th>\n",
       "      <th>targeted_structure</th>\n",
       "      <th>cre_line</th>\n",
       "      <th>reporter_line</th>\n",
       "      <th>donor_name</th>\n",
       "      <th>specimen_name</th>\n",
       "      <th>tags</th>\n",
       "      <th>failed</th>\n",
       "      <th>Cortical_Layer</th>\n",
       "    </tr>\n",
       "  </thead>\n",
       "  <tbody>\n",
       "    <tr>\n",
       "      <th>0</th>\n",
       "      <td>661437138</td>\n",
       "      <td>175</td>\n",
       "      <td>VISp</td>\n",
       "      <td>Slc17a7-IRES2-Cre</td>\n",
       "      <td>Ai93(TITL-GCaMP6f)</td>\n",
       "      <td>365251</td>\n",
       "      <td>Slc17a7-IRES2-Cre;Camk2a-tTA;Ai93-365251</td>\n",
       "      <td>[]</td>\n",
       "      <td>False</td>\n",
       "      <td>Layer 2/3</td>\n",
       "    </tr>\n",
       "    <tr>\n",
       "      <th>3</th>\n",
       "      <td>511510736</td>\n",
       "      <td>175</td>\n",
       "      <td>VISp</td>\n",
       "      <td>Cux2-CreERT2</td>\n",
       "      <td>Ai93(TITL-GCaMP6f)</td>\n",
       "      <td>222426</td>\n",
       "      <td>Cux2-CreERT2;Camk2a-tTA;Ai93-222426</td>\n",
       "      <td>[]</td>\n",
       "      <td>False</td>\n",
       "      <td>Layer 2/3</td>\n",
       "    </tr>\n",
       "    <tr>\n",
       "      <th>8</th>\n",
       "      <td>670396939</td>\n",
       "      <td>195</td>\n",
       "      <td>VISp</td>\n",
       "      <td>Pvalb-IRES-Cre</td>\n",
       "      <td>Ai162(TIT2L-GC6s-ICL-tTA2)</td>\n",
       "      <td>369497</td>\n",
       "      <td>Pvalb-IRES-Cre;Ai162-369497</td>\n",
       "      <td>[]</td>\n",
       "      <td>False</td>\n",
       "      <td>Layer 2/3</td>\n",
       "    </tr>\n",
       "    <tr>\n",
       "      <th>10</th>\n",
       "      <td>511510855</td>\n",
       "      <td>175</td>\n",
       "      <td>VISp</td>\n",
       "      <td>Cux2-CreERT2</td>\n",
       "      <td>Ai93(TITL-GCaMP6f)</td>\n",
       "      <td>229106</td>\n",
       "      <td>Cux2-CreERT2;Camk2a-tTA;Ai93-229106</td>\n",
       "      <td>[]</td>\n",
       "      <td>False</td>\n",
       "      <td>Layer 2/3</td>\n",
       "    </tr>\n",
       "    <tr>\n",
       "      <th>19</th>\n",
       "      <td>682734790</td>\n",
       "      <td>205</td>\n",
       "      <td>VISp</td>\n",
       "      <td>Slc17a7-IRES2-Cre</td>\n",
       "      <td>Ai94(TITL-GCaMP6s)</td>\n",
       "      <td>377111</td>\n",
       "      <td>Slc17a7-IRES2-Cre;Camk2a-tTA;Ai94-377111</td>\n",
       "      <td>[]</td>\n",
       "      <td>False</td>\n",
       "      <td>Layer 2/3</td>\n",
       "    </tr>\n",
       "  </tbody>\n",
       "</table>\n",
       "</div>"
      ],
      "text/plain": [
       "           id  imaging_depth targeted_structure           cre_line  \\\n",
       "0   661437138            175               VISp  Slc17a7-IRES2-Cre   \n",
       "3   511510736            175               VISp       Cux2-CreERT2   \n",
       "8   670396939            195               VISp     Pvalb-IRES-Cre   \n",
       "10  511510855            175               VISp       Cux2-CreERT2   \n",
       "19  682734790            205               VISp  Slc17a7-IRES2-Cre   \n",
       "\n",
       "                 reporter_line donor_name  \\\n",
       "0           Ai93(TITL-GCaMP6f)     365251   \n",
       "3           Ai93(TITL-GCaMP6f)     222426   \n",
       "8   Ai162(TIT2L-GC6s-ICL-tTA2)     369497   \n",
       "10          Ai93(TITL-GCaMP6f)     229106   \n",
       "19          Ai94(TITL-GCaMP6s)     377111   \n",
       "\n",
       "                               specimen_name tags  failed Cortical_Layer  \n",
       "0   Slc17a7-IRES2-Cre;Camk2a-tTA;Ai93-365251   []   False      Layer 2/3  \n",
       "3        Cux2-CreERT2;Camk2a-tTA;Ai93-222426   []   False      Layer 2/3  \n",
       "8                Pvalb-IRES-Cre;Ai162-369497   []   False      Layer 2/3  \n",
       "10       Cux2-CreERT2;Camk2a-tTA;Ai93-229106   []   False      Layer 2/3  \n",
       "19  Slc17a7-IRES2-Cre;Camk2a-tTA;Ai94-377111   []   False      Layer 2/3  "
      ]
     },
     "execution_count": 20,
     "metadata": {},
     "output_type": "execute_result"
    }
   ],
   "source": [
    "df_layer2_3.head()"
   ]
  },
  {
   "cell_type": "code",
   "execution_count": null,
   "id": "57edcbdb",
   "metadata": {},
   "outputs": [],
   "source": []
  },
  {
   "cell_type": "code",
   "execution_count": 21,
   "id": "c1b3ad7f",
   "metadata": {},
   "outputs": [],
   "source": [
    "df_layer4 = data[data[\"Cortical_Layer\"] == \"Layer 4\"]"
   ]
  },
  {
   "cell_type": "code",
   "execution_count": 22,
   "id": "502e2d66",
   "metadata": {},
   "outputs": [
    {
     "data": {
      "text/html": [
       "<div>\n",
       "<style scoped>\n",
       "    .dataframe tbody tr th:only-of-type {\n",
       "        vertical-align: middle;\n",
       "    }\n",
       "\n",
       "    .dataframe tbody tr th {\n",
       "        vertical-align: top;\n",
       "    }\n",
       "\n",
       "    .dataframe thead th {\n",
       "        text-align: right;\n",
       "    }\n",
       "</style>\n",
       "<table border=\"1\" class=\"dataframe\">\n",
       "  <thead>\n",
       "    <tr style=\"text-align: right;\">\n",
       "      <th></th>\n",
       "      <th>id</th>\n",
       "      <th>imaging_depth</th>\n",
       "      <th>targeted_structure</th>\n",
       "      <th>cre_line</th>\n",
       "      <th>reporter_line</th>\n",
       "      <th>donor_name</th>\n",
       "      <th>specimen_name</th>\n",
       "      <th>tags</th>\n",
       "      <th>failed</th>\n",
       "      <th>Cortical_Layer</th>\n",
       "    </tr>\n",
       "  </thead>\n",
       "  <tbody>\n",
       "    <tr>\n",
       "      <th>6</th>\n",
       "      <td>581026086</td>\n",
       "      <td>275</td>\n",
       "      <td>VISp</td>\n",
       "      <td>Sst-IRES-Cre</td>\n",
       "      <td>Ai148(TIT2L-GC6f-ICL-tTA2)</td>\n",
       "      <td>297507</td>\n",
       "      <td>Sst-IRES-Cre;Ai148(CAM)-297507</td>\n",
       "      <td>[]</td>\n",
       "      <td>False</td>\n",
       "      <td>Layer 4</td>\n",
       "    </tr>\n",
       "    <tr>\n",
       "      <th>13</th>\n",
       "      <td>561312433</td>\n",
       "      <td>275</td>\n",
       "      <td>VISp</td>\n",
       "      <td>Emx1-IRES-Cre</td>\n",
       "      <td>Ai93(TITL-GCaMP6f)</td>\n",
       "      <td>280638</td>\n",
       "      <td>Emx1-IRES-Cre;Camk2a-tTA;Ai93-280638</td>\n",
       "      <td>[]</td>\n",
       "      <td>False</td>\n",
       "      <td>Layer 4</td>\n",
       "    </tr>\n",
       "    <tr>\n",
       "      <th>14</th>\n",
       "      <td>512124562</td>\n",
       "      <td>275</td>\n",
       "      <td>VISp</td>\n",
       "      <td>Rorb-IRES2-Cre</td>\n",
       "      <td>Ai93(TITL-GCaMP6f)</td>\n",
       "      <td>234831</td>\n",
       "      <td>Rorb-IRES2-Cre;Camk2a-tTA;Ai93-234831</td>\n",
       "      <td>[]</td>\n",
       "      <td>False</td>\n",
       "      <td>Layer 4</td>\n",
       "    </tr>\n",
       "    <tr>\n",
       "      <th>15</th>\n",
       "      <td>511510675</td>\n",
       "      <td>275</td>\n",
       "      <td>VISp</td>\n",
       "      <td>Rorb-IRES2-Cre</td>\n",
       "      <td>Ai93(TITL-GCaMP6f)</td>\n",
       "      <td>228786</td>\n",
       "      <td>Rorb-IRES2-Cre;Camk2a-tTA;Ai93-228786</td>\n",
       "      <td>[]</td>\n",
       "      <td>False</td>\n",
       "      <td>Layer 4</td>\n",
       "    </tr>\n",
       "    <tr>\n",
       "      <th>16</th>\n",
       "      <td>573720506</td>\n",
       "      <td>275</td>\n",
       "      <td>VISp</td>\n",
       "      <td>Sst-IRES-Cre</td>\n",
       "      <td>Ai148(TIT2L-GC6f-ICL-tTA2)</td>\n",
       "      <td>297620</td>\n",
       "      <td>Sst-IRES-Cre;Ai148(CAM)-297620</td>\n",
       "      <td>[]</td>\n",
       "      <td>False</td>\n",
       "      <td>Layer 4</td>\n",
       "    </tr>\n",
       "  </tbody>\n",
       "</table>\n",
       "</div>"
      ],
      "text/plain": [
       "           id  imaging_depth targeted_structure        cre_line  \\\n",
       "6   581026086            275               VISp    Sst-IRES-Cre   \n",
       "13  561312433            275               VISp   Emx1-IRES-Cre   \n",
       "14  512124562            275               VISp  Rorb-IRES2-Cre   \n",
       "15  511510675            275               VISp  Rorb-IRES2-Cre   \n",
       "16  573720506            275               VISp    Sst-IRES-Cre   \n",
       "\n",
       "                 reporter_line donor_name  \\\n",
       "6   Ai148(TIT2L-GC6f-ICL-tTA2)     297507   \n",
       "13          Ai93(TITL-GCaMP6f)     280638   \n",
       "14          Ai93(TITL-GCaMP6f)     234831   \n",
       "15          Ai93(TITL-GCaMP6f)     228786   \n",
       "16  Ai148(TIT2L-GC6f-ICL-tTA2)     297620   \n",
       "\n",
       "                            specimen_name tags  failed Cortical_Layer  \n",
       "6          Sst-IRES-Cre;Ai148(CAM)-297507   []   False        Layer 4  \n",
       "13   Emx1-IRES-Cre;Camk2a-tTA;Ai93-280638   []   False        Layer 4  \n",
       "14  Rorb-IRES2-Cre;Camk2a-tTA;Ai93-234831   []   False        Layer 4  \n",
       "15  Rorb-IRES2-Cre;Camk2a-tTA;Ai93-228786   []   False        Layer 4  \n",
       "16         Sst-IRES-Cre;Ai148(CAM)-297620   []   False        Layer 4  "
      ]
     },
     "execution_count": 22,
     "metadata": {},
     "output_type": "execute_result"
    }
   ],
   "source": [
    "df_layer4.head()"
   ]
  },
  {
   "cell_type": "code",
   "execution_count": 23,
   "id": "206bc9b4",
   "metadata": {},
   "outputs": [
    {
     "name": "stdout",
     "output_type": "stream",
     "text": [
      "53\n"
     ]
    }
   ],
   "source": [
    "print(len(df_layer4))"
   ]
  },
  {
   "cell_type": "code",
   "execution_count": 24,
   "id": "4c6e7425",
   "metadata": {},
   "outputs": [],
   "source": [
    "df_layer5 = data[data[\"Cortical_Layer\"] == \"Layer 5\"]"
   ]
  },
  {
   "cell_type": "code",
   "execution_count": 25,
   "id": "3f7604d0",
   "metadata": {},
   "outputs": [
    {
     "data": {
      "text/html": [
       "<div>\n",
       "<style scoped>\n",
       "    .dataframe tbody tr th:only-of-type {\n",
       "        vertical-align: middle;\n",
       "    }\n",
       "\n",
       "    .dataframe tbody tr th {\n",
       "        vertical-align: top;\n",
       "    }\n",
       "\n",
       "    .dataframe thead th {\n",
       "        text-align: right;\n",
       "    }\n",
       "</style>\n",
       "<table border=\"1\" class=\"dataframe\">\n",
       "  <thead>\n",
       "    <tr style=\"text-align: right;\">\n",
       "      <th></th>\n",
       "      <th>id</th>\n",
       "      <th>imaging_depth</th>\n",
       "      <th>targeted_structure</th>\n",
       "      <th>cre_line</th>\n",
       "      <th>reporter_line</th>\n",
       "      <th>donor_name</th>\n",
       "      <th>specimen_name</th>\n",
       "      <th>tags</th>\n",
       "      <th>failed</th>\n",
       "      <th>Cortical_Layer</th>\n",
       "    </tr>\n",
       "  </thead>\n",
       "  <tbody>\n",
       "    <tr>\n",
       "      <th>1</th>\n",
       "      <td>511510911</td>\n",
       "      <td>350</td>\n",
       "      <td>VISp</td>\n",
       "      <td>Scnn1a-Tg3-Cre</td>\n",
       "      <td>Ai93(TITL-GCaMP6f)</td>\n",
       "      <td>230570</td>\n",
       "      <td>Scnn1a-Tg3-Cre;Camk2a-tTA;Ai93-230570</td>\n",
       "      <td>[]</td>\n",
       "      <td>False</td>\n",
       "      <td>Layer 5</td>\n",
       "    </tr>\n",
       "    <tr>\n",
       "      <th>4</th>\n",
       "      <td>528792730</td>\n",
       "      <td>350</td>\n",
       "      <td>VISp</td>\n",
       "      <td>Nr5a1-Cre</td>\n",
       "      <td>Ai93(TITL-GCaMP6f)</td>\n",
       "      <td>248894</td>\n",
       "      <td>Nr5a1-Cre;Camk2a-tTA;Ai93-248894</td>\n",
       "      <td>[]</td>\n",
       "      <td>False</td>\n",
       "      <td>Layer 5</td>\n",
       "    </tr>\n",
       "    <tr>\n",
       "      <th>5</th>\n",
       "      <td>595263152</td>\n",
       "      <td>375</td>\n",
       "      <td>VISp</td>\n",
       "      <td>Emx1-IRES-Cre</td>\n",
       "      <td>Ai93(TITL-GCaMP6f)</td>\n",
       "      <td>309152</td>\n",
       "      <td>Emx1-IRES-Cre;Camk2a-tTA;Ai93-309152</td>\n",
       "      <td>[]</td>\n",
       "      <td>False</td>\n",
       "      <td>Layer 5</td>\n",
       "    </tr>\n",
       "    <tr>\n",
       "      <th>9</th>\n",
       "      <td>598564171</td>\n",
       "      <td>375</td>\n",
       "      <td>VISp</td>\n",
       "      <td>Rbp4-Cre_KL100</td>\n",
       "      <td>Ai93(TITL-GCaMP6f)</td>\n",
       "      <td>315297</td>\n",
       "      <td>Rbp4-Cre_KL100;Camk2a-tTA;Ai93-315297</td>\n",
       "      <td>[]</td>\n",
       "      <td>False</td>\n",
       "      <td>Layer 5</td>\n",
       "    </tr>\n",
       "    <tr>\n",
       "      <th>11</th>\n",
       "      <td>614418789</td>\n",
       "      <td>375</td>\n",
       "      <td>VISp</td>\n",
       "      <td>Sst-IRES-Cre</td>\n",
       "      <td>Ai148(TIT2L-GC6f-ICL-tTA2)</td>\n",
       "      <td>332396</td>\n",
       "      <td>Sst-IRES-Cre;Ai148(CAM)-332396</td>\n",
       "      <td>[]</td>\n",
       "      <td>False</td>\n",
       "      <td>Layer 5</td>\n",
       "    </tr>\n",
       "  </tbody>\n",
       "</table>\n",
       "</div>"
      ],
      "text/plain": [
       "           id  imaging_depth targeted_structure        cre_line  \\\n",
       "1   511510911            350               VISp  Scnn1a-Tg3-Cre   \n",
       "4   528792730            350               VISp       Nr5a1-Cre   \n",
       "5   595263152            375               VISp   Emx1-IRES-Cre   \n",
       "9   598564171            375               VISp  Rbp4-Cre_KL100   \n",
       "11  614418789            375               VISp    Sst-IRES-Cre   \n",
       "\n",
       "                 reporter_line donor_name  \\\n",
       "1           Ai93(TITL-GCaMP6f)     230570   \n",
       "4           Ai93(TITL-GCaMP6f)     248894   \n",
       "5           Ai93(TITL-GCaMP6f)     309152   \n",
       "9           Ai93(TITL-GCaMP6f)     315297   \n",
       "11  Ai148(TIT2L-GC6f-ICL-tTA2)     332396   \n",
       "\n",
       "                            specimen_name tags  failed Cortical_Layer  \n",
       "1   Scnn1a-Tg3-Cre;Camk2a-tTA;Ai93-230570   []   False        Layer 5  \n",
       "4        Nr5a1-Cre;Camk2a-tTA;Ai93-248894   []   False        Layer 5  \n",
       "5    Emx1-IRES-Cre;Camk2a-tTA;Ai93-309152   []   False        Layer 5  \n",
       "9   Rbp4-Cre_KL100;Camk2a-tTA;Ai93-315297   []   False        Layer 5  \n",
       "11         Sst-IRES-Cre;Ai148(CAM)-332396   []   False        Layer 5  "
      ]
     },
     "execution_count": 25,
     "metadata": {},
     "output_type": "execute_result"
    }
   ],
   "source": [
    "df_layer5.head()"
   ]
  },
  {
   "cell_type": "code",
   "execution_count": 26,
   "id": "4535984c",
   "metadata": {},
   "outputs": [
    {
     "name": "stdout",
     "output_type": "stream",
     "text": [
      "50\n"
     ]
    }
   ],
   "source": [
    "print(len(df_layer5))"
   ]
  },
  {
   "cell_type": "code",
   "execution_count": 27,
   "id": "7e846612",
   "metadata": {},
   "outputs": [],
   "source": [
    "df_layer6 = data[data[\"Cortical_Layer\"] == \"Layer 6\"]"
   ]
  },
  {
   "cell_type": "code",
   "execution_count": 28,
   "id": "2ea0d670",
   "metadata": {},
   "outputs": [
    {
     "data": {
      "text/html": [
       "<div>\n",
       "<style scoped>\n",
       "    .dataframe tbody tr th:only-of-type {\n",
       "        vertical-align: middle;\n",
       "    }\n",
       "\n",
       "    .dataframe tbody tr th {\n",
       "        vertical-align: top;\n",
       "    }\n",
       "\n",
       "    .dataframe thead th {\n",
       "        text-align: right;\n",
       "    }\n",
       "</style>\n",
       "<table border=\"1\" class=\"dataframe\">\n",
       "  <thead>\n",
       "    <tr style=\"text-align: right;\">\n",
       "      <th></th>\n",
       "      <th>id</th>\n",
       "      <th>imaging_depth</th>\n",
       "      <th>targeted_structure</th>\n",
       "      <th>cre_line</th>\n",
       "      <th>reporter_line</th>\n",
       "      <th>donor_name</th>\n",
       "      <th>specimen_name</th>\n",
       "      <th>tags</th>\n",
       "      <th>failed</th>\n",
       "      <th>Cortical_Layer</th>\n",
       "    </tr>\n",
       "  </thead>\n",
       "  <tbody>\n",
       "    <tr>\n",
       "      <th>2</th>\n",
       "      <td>644909309</td>\n",
       "      <td>550</td>\n",
       "      <td>VISp</td>\n",
       "      <td>Ntsr1-Cre_GN220</td>\n",
       "      <td>Ai148(TIT2L-GC6f-ICL-tTA2)</td>\n",
       "      <td>348105</td>\n",
       "      <td>Ntsr1-Cre_GN220;Ai148-348105</td>\n",
       "      <td>[]</td>\n",
       "      <td>False</td>\n",
       "      <td>Layer 6</td>\n",
       "    </tr>\n",
       "    <tr>\n",
       "      <th>7</th>\n",
       "      <td>603576130</td>\n",
       "      <td>550</td>\n",
       "      <td>VISp</td>\n",
       "      <td>Ntsr1-Cre_GN220</td>\n",
       "      <td>Ai148(TIT2L-GC6f-ICL-tTA2)</td>\n",
       "      <td>323982</td>\n",
       "      <td>Ntsr1-Cre_GN220;Ai148-323982</td>\n",
       "      <td>[]</td>\n",
       "      <td>False</td>\n",
       "      <td>Layer 6</td>\n",
       "    </tr>\n",
       "    <tr>\n",
       "      <th>25</th>\n",
       "      <td>603425700</td>\n",
       "      <td>550</td>\n",
       "      <td>VISp</td>\n",
       "      <td>Ntsr1-Cre_GN220</td>\n",
       "      <td>Ai148(TIT2L-GC6f-ICL-tTA2)</td>\n",
       "      <td>323984</td>\n",
       "      <td>Ntsr1-Cre_GN220;Ai148-323984</td>\n",
       "      <td>[]</td>\n",
       "      <td>False</td>\n",
       "      <td>Layer 6</td>\n",
       "    </tr>\n",
       "    <tr>\n",
       "      <th>85</th>\n",
       "      <td>627823692</td>\n",
       "      <td>550</td>\n",
       "      <td>VISp</td>\n",
       "      <td>Ntsr1-Cre_GN220</td>\n",
       "      <td>Ai148(TIT2L-GC6f-ICL-tTA2)</td>\n",
       "      <td>339814</td>\n",
       "      <td>Ntsr1-Cre_GN220;Ai148-339814</td>\n",
       "      <td>[]</td>\n",
       "      <td>False</td>\n",
       "      <td>Layer 6</td>\n",
       "    </tr>\n",
       "    <tr>\n",
       "      <th>112</th>\n",
       "      <td>686912320</td>\n",
       "      <td>550</td>\n",
       "      <td>VISp</td>\n",
       "      <td>Ntsr1-Cre_GN220</td>\n",
       "      <td>Ai148(TIT2L-GC6f-ICL-tTA2)</td>\n",
       "      <td>377129</td>\n",
       "      <td>Ntsr1-Cre_GN220;Ai148-377129</td>\n",
       "      <td>[]</td>\n",
       "      <td>False</td>\n",
       "      <td>Layer 6</td>\n",
       "    </tr>\n",
       "  </tbody>\n",
       "</table>\n",
       "</div>"
      ],
      "text/plain": [
       "            id  imaging_depth targeted_structure         cre_line  \\\n",
       "2    644909309            550               VISp  Ntsr1-Cre_GN220   \n",
       "7    603576130            550               VISp  Ntsr1-Cre_GN220   \n",
       "25   603425700            550               VISp  Ntsr1-Cre_GN220   \n",
       "85   627823692            550               VISp  Ntsr1-Cre_GN220   \n",
       "112  686912320            550               VISp  Ntsr1-Cre_GN220   \n",
       "\n",
       "                  reporter_line donor_name                 specimen_name tags  \\\n",
       "2    Ai148(TIT2L-GC6f-ICL-tTA2)     348105  Ntsr1-Cre_GN220;Ai148-348105   []   \n",
       "7    Ai148(TIT2L-GC6f-ICL-tTA2)     323982  Ntsr1-Cre_GN220;Ai148-323982   []   \n",
       "25   Ai148(TIT2L-GC6f-ICL-tTA2)     323984  Ntsr1-Cre_GN220;Ai148-323984   []   \n",
       "85   Ai148(TIT2L-GC6f-ICL-tTA2)     339814  Ntsr1-Cre_GN220;Ai148-339814   []   \n",
       "112  Ai148(TIT2L-GC6f-ICL-tTA2)     377129  Ntsr1-Cre_GN220;Ai148-377129   []   \n",
       "\n",
       "     failed Cortical_Layer  \n",
       "2     False        Layer 6  \n",
       "7     False        Layer 6  \n",
       "25    False        Layer 6  \n",
       "85    False        Layer 6  \n",
       "112   False        Layer 6  "
      ]
     },
     "execution_count": 28,
     "metadata": {},
     "output_type": "execute_result"
    }
   ],
   "source": [
    "df_layer6.head()"
   ]
  },
  {
   "cell_type": "code",
   "execution_count": 29,
   "id": "b0f57f84",
   "metadata": {},
   "outputs": [
    {
     "name": "stdout",
     "output_type": "stream",
     "text": [
      "6\n"
     ]
    }
   ],
   "source": [
    "print(len(df_layer6))"
   ]
  },
  {
   "cell_type": "markdown",
   "id": "a9fb1d9d",
   "metadata": {},
   "source": [
    " # Session Types For The Different Layers"
   ]
  },
  {
   "cell_type": "code",
   "execution_count": 30,
   "id": "5d5e90ee",
   "metadata": {},
   "outputs": [],
   "source": [
    "ids  = df_layer2_3[\"id\"].values"
   ]
  },
  {
   "cell_type": "code",
   "execution_count": 31,
   "id": "5c5e3f6e",
   "metadata": {},
   "outputs": [
    {
     "name": "stdout",
     "output_type": "stream",
     "text": [
      "35\n"
     ]
    }
   ],
   "source": [
    "print(len(ids))"
   ]
  },
  {
   "cell_type": "code",
   "execution_count": 32,
   "id": "60a3e140",
   "metadata": {},
   "outputs": [],
   "source": [
    "sessions = boc.get_ophys_experiments(experiment_container_ids = ids)"
   ]
  },
  {
   "cell_type": "code",
   "execution_count": 33,
   "id": "3b1dfa33",
   "metadata": {},
   "outputs": [
    {
     "name": "stdout",
     "output_type": "stream",
     "text": [
      "105\n"
     ]
    }
   ],
   "source": [
    "print(len(sessions))"
   ]
  },
  {
   "cell_type": "code",
   "execution_count": 34,
   "id": "1193591d",
   "metadata": {},
   "outputs": [
    {
     "data": {
      "text/html": [
       "<div>\n",
       "<style scoped>\n",
       "    .dataframe tbody tr th:only-of-type {\n",
       "        vertical-align: middle;\n",
       "    }\n",
       "\n",
       "    .dataframe tbody tr th {\n",
       "        vertical-align: top;\n",
       "    }\n",
       "\n",
       "    .dataframe thead th {\n",
       "        text-align: right;\n",
       "    }\n",
       "</style>\n",
       "<table border=\"1\" class=\"dataframe\">\n",
       "  <thead>\n",
       "    <tr style=\"text-align: right;\">\n",
       "      <th></th>\n",
       "      <th>id</th>\n",
       "      <th>imaging_depth</th>\n",
       "      <th>targeted_structure</th>\n",
       "      <th>cre_line</th>\n",
       "      <th>reporter_line</th>\n",
       "      <th>acquisition_age_days</th>\n",
       "      <th>experiment_container_id</th>\n",
       "      <th>session_type</th>\n",
       "      <th>donor_name</th>\n",
       "      <th>specimen_name</th>\n",
       "      <th>fail_eye_tracking</th>\n",
       "    </tr>\n",
       "  </thead>\n",
       "  <tbody>\n",
       "    <tr>\n",
       "      <th>0</th>\n",
       "      <td>704298735</td>\n",
       "      <td>175</td>\n",
       "      <td>VISp</td>\n",
       "      <td>Cux2-CreERT2</td>\n",
       "      <td>Ai93(TITL-GCaMP6f)</td>\n",
       "      <td>111</td>\n",
       "      <td>701412138</td>\n",
       "      <td>three_session_A</td>\n",
       "      <td>382421</td>\n",
       "      <td>Cux2-CreERT2;Camk2a-tTA;Ai93-382421</td>\n",
       "      <td>False</td>\n",
       "    </tr>\n",
       "    <tr>\n",
       "      <th>1</th>\n",
       "      <td>676024958</td>\n",
       "      <td>200</td>\n",
       "      <td>VISp</td>\n",
       "      <td>Pvalb-IRES-Cre</td>\n",
       "      <td>Ai162(TIT2L-GC6s-ICL-tTA2)</td>\n",
       "      <td>95</td>\n",
       "      <td>674679297</td>\n",
       "      <td>three_session_C2</td>\n",
       "      <td>373762</td>\n",
       "      <td>Pvalb-IRES-Cre;Ai162-373762</td>\n",
       "      <td>False</td>\n",
       "    </tr>\n",
       "    <tr>\n",
       "      <th>2</th>\n",
       "      <td>545446482</td>\n",
       "      <td>175</td>\n",
       "      <td>VISp</td>\n",
       "      <td>Emx1-IRES-Cre</td>\n",
       "      <td>Ai93(TITL-GCaMP6f)</td>\n",
       "      <td>99</td>\n",
       "      <td>543677425</td>\n",
       "      <td>three_session_A</td>\n",
       "      <td>260936</td>\n",
       "      <td>Emx1-IRES-Cre;Camk2a-tTA;Ai93-260936</td>\n",
       "      <td>True</td>\n",
       "    </tr>\n",
       "    <tr>\n",
       "      <th>3</th>\n",
       "      <td>501794235</td>\n",
       "      <td>175</td>\n",
       "      <td>VISp</td>\n",
       "      <td>Cux2-CreERT2</td>\n",
       "      <td>Ai93(TITL-GCaMP6f)</td>\n",
       "      <td>107</td>\n",
       "      <td>511507650</td>\n",
       "      <td>three_session_B</td>\n",
       "      <td>222424</td>\n",
       "      <td>Cux2-CreERT2;Camk2a-tTA;Ai93-222424</td>\n",
       "      <td>True</td>\n",
       "    </tr>\n",
       "    <tr>\n",
       "      <th>4</th>\n",
       "      <td>605913519</td>\n",
       "      <td>175</td>\n",
       "      <td>VISp</td>\n",
       "      <td>Vip-IRES-Cre</td>\n",
       "      <td>Ai148(TIT2L-GC6f-ICL-tTA2)</td>\n",
       "      <td>99</td>\n",
       "      <td>604866830</td>\n",
       "      <td>three_session_B</td>\n",
       "      <td>326489</td>\n",
       "      <td>Vip-IRES-Cre;Ai148-326489</td>\n",
       "      <td>True</td>\n",
       "    </tr>\n",
       "  </tbody>\n",
       "</table>\n",
       "</div>"
      ],
      "text/plain": [
       "          id  imaging_depth targeted_structure        cre_line  \\\n",
       "0  704298735            175               VISp    Cux2-CreERT2   \n",
       "1  676024958            200               VISp  Pvalb-IRES-Cre   \n",
       "2  545446482            175               VISp   Emx1-IRES-Cre   \n",
       "3  501794235            175               VISp    Cux2-CreERT2   \n",
       "4  605913519            175               VISp    Vip-IRES-Cre   \n",
       "\n",
       "                reporter_line  acquisition_age_days  experiment_container_id  \\\n",
       "0          Ai93(TITL-GCaMP6f)                   111                701412138   \n",
       "1  Ai162(TIT2L-GC6s-ICL-tTA2)                    95                674679297   \n",
       "2          Ai93(TITL-GCaMP6f)                    99                543677425   \n",
       "3          Ai93(TITL-GCaMP6f)                   107                511507650   \n",
       "4  Ai148(TIT2L-GC6f-ICL-tTA2)                    99                604866830   \n",
       "\n",
       "       session_type donor_name                         specimen_name  \\\n",
       "0   three_session_A     382421   Cux2-CreERT2;Camk2a-tTA;Ai93-382421   \n",
       "1  three_session_C2     373762           Pvalb-IRES-Cre;Ai162-373762   \n",
       "2   three_session_A     260936  Emx1-IRES-Cre;Camk2a-tTA;Ai93-260936   \n",
       "3   three_session_B     222424   Cux2-CreERT2;Camk2a-tTA;Ai93-222424   \n",
       "4   three_session_B     326489             Vip-IRES-Cre;Ai148-326489   \n",
       "\n",
       "   fail_eye_tracking  \n",
       "0              False  \n",
       "1              False  \n",
       "2               True  \n",
       "3               True  \n",
       "4               True  "
      ]
     },
     "execution_count": 34,
     "metadata": {},
     "output_type": "execute_result"
    }
   ],
   "source": [
    "layer_23 = pd.DataFrame(sessions)\n",
    "layer_23.head()"
   ]
  },
  {
   "cell_type": "code",
   "execution_count": 35,
   "id": "bd8b50c6",
   "metadata": {},
   "outputs": [
    {
     "name": "stdout",
     "output_type": "stream",
     "text": [
      "105\n"
     ]
    }
   ],
   "source": [
    "print(len(layer_23))"
   ]
  },
  {
   "cell_type": "markdown",
   "id": "eae24d37",
   "metadata": {},
   "source": [
    "# Session A -> Stimulus -> Decoding Accuracy"
   ]
  },
  {
   "cell_type": "code",
   "execution_count": 36,
   "id": "993e7e73",
   "metadata": {},
   "outputs": [],
   "source": [
    "session_A = layer_23[layer_23[\"session_type\"] == \"three_session_A\"]"
   ]
  },
  {
   "cell_type": "code",
   "execution_count": 37,
   "id": "ab4a2eef",
   "metadata": {},
   "outputs": [
    {
     "data": {
      "text/html": [
       "<div>\n",
       "<style scoped>\n",
       "    .dataframe tbody tr th:only-of-type {\n",
       "        vertical-align: middle;\n",
       "    }\n",
       "\n",
       "    .dataframe tbody tr th {\n",
       "        vertical-align: top;\n",
       "    }\n",
       "\n",
       "    .dataframe thead th {\n",
       "        text-align: right;\n",
       "    }\n",
       "</style>\n",
       "<table border=\"1\" class=\"dataframe\">\n",
       "  <thead>\n",
       "    <tr style=\"text-align: right;\">\n",
       "      <th></th>\n",
       "      <th>id</th>\n",
       "      <th>imaging_depth</th>\n",
       "      <th>targeted_structure</th>\n",
       "      <th>cre_line</th>\n",
       "      <th>reporter_line</th>\n",
       "      <th>acquisition_age_days</th>\n",
       "      <th>experiment_container_id</th>\n",
       "      <th>session_type</th>\n",
       "      <th>donor_name</th>\n",
       "      <th>specimen_name</th>\n",
       "      <th>fail_eye_tracking</th>\n",
       "    </tr>\n",
       "  </thead>\n",
       "  <tbody>\n",
       "    <tr>\n",
       "      <th>0</th>\n",
       "      <td>704298735</td>\n",
       "      <td>175</td>\n",
       "      <td>VISp</td>\n",
       "      <td>Cux2-CreERT2</td>\n",
       "      <td>Ai93(TITL-GCaMP6f)</td>\n",
       "      <td>111</td>\n",
       "      <td>701412138</td>\n",
       "      <td>three_session_A</td>\n",
       "      <td>382421</td>\n",
       "      <td>Cux2-CreERT2;Camk2a-tTA;Ai93-382421</td>\n",
       "      <td>False</td>\n",
       "    </tr>\n",
       "    <tr>\n",
       "      <th>2</th>\n",
       "      <td>545446482</td>\n",
       "      <td>175</td>\n",
       "      <td>VISp</td>\n",
       "      <td>Emx1-IRES-Cre</td>\n",
       "      <td>Ai93(TITL-GCaMP6f)</td>\n",
       "      <td>99</td>\n",
       "      <td>543677425</td>\n",
       "      <td>three_session_A</td>\n",
       "      <td>260936</td>\n",
       "      <td>Emx1-IRES-Cre;Camk2a-tTA;Ai93-260936</td>\n",
       "      <td>True</td>\n",
       "    </tr>\n",
       "    <tr>\n",
       "      <th>12</th>\n",
       "      <td>657078119</td>\n",
       "      <td>175</td>\n",
       "      <td>VISp</td>\n",
       "      <td>Vip-IRES-Cre</td>\n",
       "      <td>Ai148(TIT2L-GC6f-ICL-tTA2)</td>\n",
       "      <td>111</td>\n",
       "      <td>657078117</td>\n",
       "      <td>three_session_A</td>\n",
       "      <td>357433</td>\n",
       "      <td>Vip-IRES-Cre;Ai148-357433</td>\n",
       "      <td>True</td>\n",
       "    </tr>\n",
       "    <tr>\n",
       "      <th>15</th>\n",
       "      <td>663485329</td>\n",
       "      <td>175</td>\n",
       "      <td>VISp</td>\n",
       "      <td>Slc17a7-IRES2-Cre</td>\n",
       "      <td>Ai93(TITL-GCaMP6f)</td>\n",
       "      <td>102</td>\n",
       "      <td>661732156</td>\n",
       "      <td>three_session_A</td>\n",
       "      <td>365255</td>\n",
       "      <td>Slc17a7-IRES2-Cre;Camk2a-tTA;Ai93-365255</td>\n",
       "      <td>False</td>\n",
       "    </tr>\n",
       "    <tr>\n",
       "      <th>16</th>\n",
       "      <td>652091264</td>\n",
       "      <td>175</td>\n",
       "      <td>VISp</td>\n",
       "      <td>Vip-IRES-Cre</td>\n",
       "      <td>Ai148(TIT2L-GC6f-ICL-tTA2)</td>\n",
       "      <td>91</td>\n",
       "      <td>652091262</td>\n",
       "      <td>three_session_A</td>\n",
       "      <td>354819</td>\n",
       "      <td>Vip-IRES-Cre;Ai148-354819</td>\n",
       "      <td>True</td>\n",
       "    </tr>\n",
       "  </tbody>\n",
       "</table>\n",
       "</div>"
      ],
      "text/plain": [
       "           id  imaging_depth targeted_structure           cre_line  \\\n",
       "0   704298735            175               VISp       Cux2-CreERT2   \n",
       "2   545446482            175               VISp      Emx1-IRES-Cre   \n",
       "12  657078119            175               VISp       Vip-IRES-Cre   \n",
       "15  663485329            175               VISp  Slc17a7-IRES2-Cre   \n",
       "16  652091264            175               VISp       Vip-IRES-Cre   \n",
       "\n",
       "                 reporter_line  acquisition_age_days  experiment_container_id  \\\n",
       "0           Ai93(TITL-GCaMP6f)                   111                701412138   \n",
       "2           Ai93(TITL-GCaMP6f)                    99                543677425   \n",
       "12  Ai148(TIT2L-GC6f-ICL-tTA2)                   111                657078117   \n",
       "15          Ai93(TITL-GCaMP6f)                   102                661732156   \n",
       "16  Ai148(TIT2L-GC6f-ICL-tTA2)                    91                652091262   \n",
       "\n",
       "       session_type donor_name                             specimen_name  \\\n",
       "0   three_session_A     382421       Cux2-CreERT2;Camk2a-tTA;Ai93-382421   \n",
       "2   three_session_A     260936      Emx1-IRES-Cre;Camk2a-tTA;Ai93-260936   \n",
       "12  three_session_A     357433                 Vip-IRES-Cre;Ai148-357433   \n",
       "15  three_session_A     365255  Slc17a7-IRES2-Cre;Camk2a-tTA;Ai93-365255   \n",
       "16  three_session_A     354819                 Vip-IRES-Cre;Ai148-354819   \n",
       "\n",
       "    fail_eye_tracking  \n",
       "0               False  \n",
       "2                True  \n",
       "12               True  \n",
       "15              False  \n",
       "16               True  "
      ]
     },
     "execution_count": 37,
     "metadata": {},
     "output_type": "execute_result"
    }
   ],
   "source": [
    "session_A.head()"
   ]
  },
  {
   "cell_type": "code",
   "execution_count": 38,
   "id": "9208723f",
   "metadata": {},
   "outputs": [
    {
     "name": "stdout",
     "output_type": "stream",
     "text": [
      "35\n"
     ]
    }
   ],
   "source": [
    "print(len(session_A))"
   ]
  },
  {
   "cell_type": "code",
   "execution_count": 39,
   "id": "6e2f6031",
   "metadata": {},
   "outputs": [],
   "source": [
    "session_ids = session_A[\"id\"].values"
   ]
  },
  {
   "cell_type": "code",
   "execution_count": 40,
   "id": "880c9c13",
   "metadata": {},
   "outputs": [
    {
     "data": {
      "text/plain": [
       "array([704298735, 545446482, 657078119, 663485329, 652091264, 657390171,\n",
       "       510514474, 501704220, 612543999, 683257169, 502205092, 526504941,\n",
       "       658518486, 661437140, 501271265, 501836392, 672206735, 688678766,\n",
       "       652842572, 583279803, 653125130, 650079244, 510517131, 606353987,\n",
       "       670395999, 671164733, 680156911, 540684467, 667364442, 675477919,\n",
       "       692345003, 670728674, 502115959, 652094901, 657775947])"
      ]
     },
     "execution_count": 40,
     "metadata": {},
     "output_type": "execute_result"
    }
   ],
   "source": [
    "session_ids"
   ]
  },
  {
   "cell_type": "code",
   "execution_count": 41,
   "id": "2affa8e9",
   "metadata": {},
   "outputs": [
    {
     "data": {
      "text/plain": [
       "704298735"
      ]
     },
     "execution_count": 41,
     "metadata": {},
     "output_type": "execute_result"
    }
   ],
   "source": [
    "oneRandomSession=session_ids[0]\n",
    "oneRandomSession"
   ]
  },
  {
   "cell_type": "markdown",
   "id": "970fe043",
   "metadata": {},
   "source": [
    "# Getting the data from sessions"
   ]
  },
  {
   "cell_type": "code",
   "execution_count": 42,
   "id": "b911ba1b",
   "metadata": {},
   "outputs": [],
   "source": [
    "dataset = [boc.get_ophys_experiment_data(ophys_experiment_id = session) for session in session_ids]"
   ]
  },
  {
   "cell_type": "code",
   "execution_count": 43,
   "id": "eef1f4c4",
   "metadata": {},
   "outputs": [],
   "source": [
    "# Assuming session_ids contains multiple session IDs\n",
    "session_ids = session_A[\"id\"].values  # Ensure session_A is a DataFrame or similar structure\n",
    "# Fetch data for each session and process it\n",
    "dataset = boc.get_ophys_experiment_data(ophys_experiment_id=session_ids[17])\n",
    "stim_table = dataset.get_stimulus_table(\"drifting_gratings\")"
   ]
  },
  {
   "cell_type": "code",
   "execution_count": 44,
   "id": "3b3c5d06",
   "metadata": {},
   "outputs": [
    {
     "data": {
      "text/plain": [
       "688678766"
      ]
     },
     "execution_count": 44,
     "metadata": {},
     "output_type": "execute_result"
    }
   ],
   "source": [
    "session_ids[17]"
   ]
  },
  {
   "cell_type": "markdown",
   "id": "23b12508",
   "metadata": {},
   "source": [
    "# Stimulus table of that session "
   ]
  },
  {
   "cell_type": "code",
   "execution_count": 45,
   "id": "34018c9f",
   "metadata": {},
   "outputs": [
    {
     "data": {
      "text/html": [
       "<div>\n",
       "<style scoped>\n",
       "    .dataframe tbody tr th:only-of-type {\n",
       "        vertical-align: middle;\n",
       "    }\n",
       "\n",
       "    .dataframe tbody tr th {\n",
       "        vertical-align: top;\n",
       "    }\n",
       "\n",
       "    .dataframe thead th {\n",
       "        text-align: right;\n",
       "    }\n",
       "</style>\n",
       "<table border=\"1\" class=\"dataframe\">\n",
       "  <thead>\n",
       "    <tr style=\"text-align: right;\">\n",
       "      <th></th>\n",
       "      <th>temporal_frequency</th>\n",
       "      <th>orientation</th>\n",
       "      <th>blank_sweep</th>\n",
       "      <th>start</th>\n",
       "      <th>end</th>\n",
       "    </tr>\n",
       "  </thead>\n",
       "  <tbody>\n",
       "    <tr>\n",
       "      <th>0</th>\n",
       "      <td>4.0</td>\n",
       "      <td>45.0</td>\n",
       "      <td>0.0</td>\n",
       "      <td>736</td>\n",
       "      <td>796</td>\n",
       "    </tr>\n",
       "    <tr>\n",
       "      <th>1</th>\n",
       "      <td>15.0</td>\n",
       "      <td>180.0</td>\n",
       "      <td>0.0</td>\n",
       "      <td>826</td>\n",
       "      <td>886</td>\n",
       "    </tr>\n",
       "    <tr>\n",
       "      <th>2</th>\n",
       "      <td>2.0</td>\n",
       "      <td>0.0</td>\n",
       "      <td>0.0</td>\n",
       "      <td>917</td>\n",
       "      <td>977</td>\n",
       "    </tr>\n",
       "    <tr>\n",
       "      <th>3</th>\n",
       "      <td>15.0</td>\n",
       "      <td>180.0</td>\n",
       "      <td>0.0</td>\n",
       "      <td>1007</td>\n",
       "      <td>1067</td>\n",
       "    </tr>\n",
       "    <tr>\n",
       "      <th>4</th>\n",
       "      <td>8.0</td>\n",
       "      <td>0.0</td>\n",
       "      <td>0.0</td>\n",
       "      <td>1098</td>\n",
       "      <td>1158</td>\n",
       "    </tr>\n",
       "    <tr>\n",
       "      <th>5</th>\n",
       "      <td>2.0</td>\n",
       "      <td>225.0</td>\n",
       "      <td>0.0</td>\n",
       "      <td>1188</td>\n",
       "      <td>1248</td>\n",
       "    </tr>\n",
       "    <tr>\n",
       "      <th>6</th>\n",
       "      <td>2.0</td>\n",
       "      <td>270.0</td>\n",
       "      <td>0.0</td>\n",
       "      <td>1279</td>\n",
       "      <td>1339</td>\n",
       "    </tr>\n",
       "    <tr>\n",
       "      <th>7</th>\n",
       "      <td>1.0</td>\n",
       "      <td>180.0</td>\n",
       "      <td>0.0</td>\n",
       "      <td>1369</td>\n",
       "      <td>1429</td>\n",
       "    </tr>\n",
       "    <tr>\n",
       "      <th>8</th>\n",
       "      <td>4.0</td>\n",
       "      <td>135.0</td>\n",
       "      <td>0.0</td>\n",
       "      <td>1460</td>\n",
       "      <td>1520</td>\n",
       "    </tr>\n",
       "    <tr>\n",
       "      <th>9</th>\n",
       "      <td>1.0</td>\n",
       "      <td>180.0</td>\n",
       "      <td>0.0</td>\n",
       "      <td>1550</td>\n",
       "      <td>1610</td>\n",
       "    </tr>\n",
       "  </tbody>\n",
       "</table>\n",
       "</div>"
      ],
      "text/plain": [
       "   temporal_frequency  orientation  blank_sweep  start   end\n",
       "0                 4.0         45.0          0.0    736   796\n",
       "1                15.0        180.0          0.0    826   886\n",
       "2                 2.0          0.0          0.0    917   977\n",
       "3                15.0        180.0          0.0   1007  1067\n",
       "4                 8.0          0.0          0.0   1098  1158\n",
       "5                 2.0        225.0          0.0   1188  1248\n",
       "6                 2.0        270.0          0.0   1279  1339\n",
       "7                 1.0        180.0          0.0   1369  1429\n",
       "8                 4.0        135.0          0.0   1460  1520\n",
       "9                 1.0        180.0          0.0   1550  1610"
      ]
     },
     "execution_count": 45,
     "metadata": {},
     "output_type": "execute_result"
    }
   ],
   "source": [
    "stim_table.head(n=10)"
   ]
  },
  {
   "cell_type": "code",
   "execution_count": 46,
   "id": "e526acfa",
   "metadata": {},
   "outputs": [
    {
     "name": "stdout",
     "output_type": "stream",
     "text": [
      "628\n"
     ]
    }
   ],
   "source": [
    "print(len(stim_table))"
   ]
  },
  {
   "cell_type": "code",
   "execution_count": 47,
   "id": "88c102a1",
   "metadata": {},
   "outputs": [
    {
     "name": "stdout",
     "output_type": "stream",
     "text": [
      "orientations:  [  0.  45.  90. 135. 180. 225. 270. 315.]\n",
      "temporal frequencies:  [ 1.  2.  4.  8. 15.]\n"
     ]
    }
   ],
   "source": [
    "import numpy as np\n",
    "orivals = stim_table.orientation.dropna().unique()\n",
    "print(\"orientations: \", np.sort(orivals))\n",
    "tfvals = stim_table.temporal_frequency.dropna().unique()\n",
    "print(\"temporal frequencies: \", np.sort(tfvals))"
   ]
  },
  {
   "cell_type": "code",
   "execution_count": 48,
   "id": "11ac4357",
   "metadata": {},
   "outputs": [
    {
     "data": {
      "text/plain": [
       "30"
      ]
     },
     "execution_count": 48,
     "metadata": {},
     "output_type": "execute_result"
    }
   ],
   "source": [
    "len(stim_table[np.isnan(stim_table.orientation)])"
   ]
  },
  {
   "cell_type": "code",
   "execution_count": 49,
   "id": "7ce532d5",
   "metadata": {},
   "outputs": [],
   "source": [
    "# import pandas as pd\n",
    "\n",
    "# # Assuming session_ids contains multiple session IDs\n",
    "# session_ids = session_A[\"id\"].values  # Ensure session_A is a DataFrame or similar structure\n",
    "\n",
    "# # Initialize an empty list to store each session's stimulus table\n",
    "# all_stim_tables = []\n",
    "\n",
    "# # Fetch data for each session and append the stimulus table to the list\n",
    "# for session_id in session_ids:\n",
    "#     try:\n",
    "#         dataset = boc.get_ophys_experiment_data(ophys_experiment_id=session_id)\n",
    "#         stim_table = dataset.get_stimulus_table(\"drifting_gratings\")\n",
    "#         all_stim_tables.append(stim_table)  # Append the table to the list\n",
    "#     except AttributeError as e:\n",
    "#         print(f\"Failed to process session {session_id}: {e}\")\n",
    "\n",
    "# # Concatenate all tables into one DataFrame\n",
    "# all_stimulus_data = pd.concat(all_stim_tables, ignore_index=True)\n",
    "\n",
    "# # Now all_stimulus_data contains the combined stimulus tables from all sessions\n",
    "# # print(all_stimulus_data)\n",
    "# data_layer_23 = pd.DataFrame(all_stimulus_data)\n"
   ]
  },
  {
   "cell_type": "markdown",
   "id": "76fc4134",
   "metadata": {},
   "source": [
    "## Maximum Projection"
   ]
  },
  {
   "cell_type": "code",
   "execution_count": 50,
   "id": "d6446559",
   "metadata": {},
   "outputs": [],
   "source": [
    "max_projection = dataset.get_max_projection()"
   ]
  },
  {
   "cell_type": "code",
   "execution_count": 51,
   "id": "d8df428b",
   "metadata": {},
   "outputs": [
    {
     "data": {
      "text/plain": [
       "(-0.5, 511.5, 511.5, -0.5)"
      ]
     },
     "execution_count": 51,
     "metadata": {},
     "output_type": "execute_result"
    },
    {
     "data": {
      "image/png": "[encoded data removed]",
      "text/plain": [
       "<Figure size 432x432 with 1 Axes>"
      ]
     },
     "metadata": {
      "needs_background": "light"
     },
     "output_type": "display_data"
    }
   ],
   "source": [
    "fig = plt.figure(figsize = (6,6))\n",
    "plt.imshow(max_projection, cmap = 'gray')\n",
    "plt.axis(\"off\")"
   ]
  },
  {
   "cell_type": "code",
   "execution_count": 52,
   "id": "f5994d78",
   "metadata": {},
   "outputs": [],
   "source": [
    "# # drop the blank sweeps here, we won't be using them \n",
    "# data_layer_23 = data_layer_23.drop([\"blank_sweep\"], axis =1)\n",
    "# data_layer_23.head()"
   ]
  },
  {
   "cell_type": "code",
   "execution_count": 53,
   "id": "b71d13a5",
   "metadata": {},
   "outputs": [],
   "source": [
    "timestamps, dff = dataset.get_dff_traces()\n",
    "stim_table = stim_table[stim_table['blank_sweep']==False]\n",
    "all_cells_index = range(dff.shape[0])\n",
    "mean_sweep_response = pd.DataFrame(index=stim_table.index, columns=all_cells_index, dtype=float)\n",
    "# you'll need to loop over trials, but try not to loop over cells!\n",
    "\n",
    "for trial in stim_table.index:\n",
    "    mean_sweep_response.loc[trial, :] = dff[\n",
    "            :, stim_table.loc[trial, \"start\"] : stim_table.loc[trial, \"end\"]\n",
    "        ].mean(axis=1)"
   ]
  },
  {
   "cell_type": "code",
   "execution_count": 54,
   "id": "59eab964",
   "metadata": {},
   "outputs": [],
   "source": [
    "# Normalize the responses\n",
    "# Tip: this is easier to do with a numpy array\n",
    "\n",
    "norm_responses = mean_sweep_response.values\n",
    "norm_responses = (norm_responses \n",
    "    - norm_responses.mean(axis=1, keepdims=True)) / norm_responses.std(axis=1, keepdims=True)"
   ]
  },
  {
   "cell_type": "code",
   "execution_count": 55,
   "id": "227800b8",
   "metadata": {},
   "outputs": [],
   "source": [
    "# Use the information in the stimulus table to select a subset of responses at a particular temporal frequency\n",
    "\n",
    "# selected_sweeps = (stim_table['temporal_frequency'])\n",
    "selected_responses = norm_responses[:]"
   ]
  },
  {
   "cell_type": "markdown",
   "id": "2dc2b71b",
   "metadata": {},
   "source": [
    "# Cell ids and indices"
   ]
  },
  {
   "cell_type": "markdown",
   "id": "189b76a8",
   "metadata": {},
   "source": [
    "Neuron in the session"
   ]
  },
  {
   "cell_type": "code",
   "execution_count": 56,
   "id": "a224a550",
   "metadata": {},
   "outputs": [
    {
     "data": {
      "text/plain": [
       "array([701728881, 701727459, 701728764, 701727473, 701733802, 701728841,\n",
       "       701723075, 701721074, 701728857, 701724624, 701730908, 701723083,\n",
       "       701722990, 701723010, 701724701, 701723046, 701723119, 701719950,\n",
       "       701722635, 701723979, 701733395, 701723897, 701733412, 701723938,\n",
       "       701733567, 701733558, 701731618, 701731639, 701731654, 701731668,\n",
       "       701731595, 701720162, 701722309, 701728087, 701731070, 701731042,\n",
       "       701728318, 701731027, 701723174, 701731388, 701722602, 701722651,\n",
       "       701727522, 701732039, 701731971, 701727263, 701719649, 701722905,\n",
       "       701719661, 701727499, 701719670, 701722893, 701719848, 701731990,\n",
       "       701719869, 701719876, 701719862, 701719841, 701726601, 701719962,\n",
       "       701719976, 701719983, 701719943, 701719936, 701719811, 701721280,\n",
       "       701729645, 701724099, 701721432, 701727408, 701724192, 701729731,\n",
       "       701726085, 701720301, 701720266, 701732748, 701720308, 701729586,\n",
       "       701720833, 701721221, 701733732, 701720827, 701721214, 701723457,\n",
       "       701721144, 701721165, 701726114, 701721088, 701728242, 701731404,\n",
       "       701722352, 701720358, 701728217, 701721081, 701726970, 701733539,\n",
       "       701720562, 701726358, 701726305, 701726452, 701726410, 701726530,\n",
       "       701720872, 701730506, 701719720, 701720379, 701719834, 701723426,\n",
       "       701723393, 701720365, 701723336, 701720238, 701720018, 701720907,\n",
       "       701731544, 701731506, 701725503, 701731551, 701732531, 701732548,\n",
       "       701730760, 701730876, 701730696, 701730689, 701721754, 701721873,\n",
       "       701732483, 701727143, 701721693, 701733533, 701729901, 701729879,\n",
       "       701733547, 701733748, 701723600, 701721049, 701721194, 701721201,\n",
       "       701733780, 701726169, 701719799, 701719997, 701730529, 701719990,\n",
       "       701720004, 701719969, 701730651, 701730331, 701721130, 701730605,\n",
       "       701721137, 701721099, 701721109, 701721116, 701720032, 701721123,\n",
       "       701723067, 701720691, 701728186, 701729663, 701728744, 701720698,\n",
       "       701720754, 701720733, 701720684, 701720719, 701720712, 701720705,\n",
       "       701724733, 701731558, 701729496, 701724686, 701728995, 701724765,\n",
       "       701729512, 701724715, 701720175, 701720568, 701729527, 701720217,\n",
       "       701720224, 701720231, 701729922, 701720767, 701729996, 701729988,\n",
       "       701729963, 701729955, 701731011, 701731003, 701720548, 701720534,\n",
       "       701720555, 701720980, 701719713, 701732501, 701730743, 701730710,\n",
       "       701730703, 701720039, 701730805, 701730867, 701730948, 701730955,\n",
       "       701730822, 701721796, 701731997, 701732004, 701722215, 701732025,\n",
       "       701731838, 701732032, 701732018, 701730030, 701733675, 701720273,\n",
       "       701720280, 701720644, 701720665, 701720658, 701720599, 701732617,\n",
       "       701720592, 701726812, 701728864, 701729825, 701729863, 701729871,\n",
       "       701730569, 701720393, 701719746, 701720150, 701719727, 701725203,\n",
       "       701733837, 701720400, 701720407, 701729914, 701726210, 701720879,\n",
       "       701720060, 701731180, 701726196, 701727444, 701730789, 701727427,\n",
       "       701720809, 701728983, 701724056, 701721595, 701724374, 701721311,\n",
       "       701721298, 701726887, 701720132, 701726873, 701726834, 701720114,\n",
       "       701722258, 701729542, 701720196, 701719924, 701729562, 701720189,\n",
       "       701731782, 701729784, 701729774, 701731824, 701731831, 701727934,\n",
       "       701727859, 701720203, 701726792, 701720424, 701720431, 701729553,\n",
       "       701728465, 701729029, 701731679, 701727767, 701725697, 701725745,\n",
       "       701725622, 701726903, 701723530, 701725820, 701733277, 701724430,\n",
       "       701726754, 701733297, 701726771, 701724594, 701724560, 701720773,\n",
       "       701720761, 701729161, 701731576, 701731569, 701729046, 701729101,\n",
       "       701731610, 701721385, 701731603, 701721369, 701728596, 701731966,\n",
       "       701731961, 701722441, 701733639, 701720499, 701720520, 701720527,\n",
       "       701732091, 701725442, 701720506, 701720513, 701724301, 701724267,\n",
       "       701733220, 701733056, 701720921, 701726981, 701720928, 701732978,\n",
       "       701733098, 701724338, 701730814, 701730838, 701730830, 701730853,\n",
       "       701730845, 701726716, 701726735, 701719753, 701733756, 701729653,\n",
       "       701733772, 701719883, 701721727, 701727210, 701724500, 701721664,\n",
       "       701720779, 701721633, 701732587, 701732603, 701720616, 701720651,\n",
       "       701732680, 701720623, 701731978, 701728903, 701722047, 701728961,\n",
       "       701728969, 701731035, 701733583, 701733599, 701733575, 701733614,\n",
       "       701733853, 701733631, 701733653, 701720067, 701730994, 701726919,\n",
       "       701724227, 701728919, 701728664, 701730022, 701730015, 701728618,\n",
       "       701719691, 701719677, 701719684, 701729633, 701728952, 701730970,\n",
       "       701719897, 701720950, 701733717, 701728944, 701730962, 701729685,\n",
       "       701726649, 701726663, 701726630, 701726617, 701728422, 701726678,\n",
       "       701733321, 701728160, 701729751, 701728935, 701727984, 701731803,\n",
       "       701720294, 701720325, 701731817, 701731796, 701731775, 701731768,\n",
       "       701719904, 701720471, 701732944, 701725853, 701725941, 701725785,\n",
       "       701725881, 701721179, 701721187, 701731942, 701732823, 701720168,\n",
       "       701730197, 701720386, 701729474, 701729433, 701721403, 701729399,\n",
       "       701729365, 701729323, 701720126, 701729283, 701720120, 701729230,\n",
       "       701732907, 701728895, 701720940, 701731852, 701731845, 701720485,\n",
       "       701720464, 701725530, 701729971, 701729980, 701720287, 701731461,\n",
       "       701731446, 701728477, 701731531, 701731521, 701733456, 701730493,\n",
       "       701732467, 701730443, 701730922, 701724639, 701727187, 701720821,\n",
       "       701720726, 701728806, 701728833, 701720914, 701721256, 701720893,\n",
       "       701728125, 701721235, 701730986, 701731721, 701721228, 701726992,\n",
       "       701728377, 701720046, 701728779, 701728404, 701722131, 701722167,\n",
       "       701721326, 701722523, 701722576, 701722499, 701722406, 701732639,\n",
       "       701720025])"
      ]
     },
     "execution_count": 56,
     "metadata": {},
     "output_type": "execute_result"
    }
   ],
   "source": [
    "cell_ids = dataset.get_cell_specimen_ids()\n",
    "cell_ids"
   ]
  },
  {
   "cell_type": "code",
   "execution_count": 57,
   "id": "00334e32",
   "metadata": {},
   "outputs": [
    {
     "name": "stdout",
     "output_type": "stream",
     "text": [
      "475\n"
     ]
    }
   ],
   "source": [
    "print(len(cell_ids))"
   ]
  },
  {
   "cell_type": "code",
   "execution_count": 58,
   "id": "caa00997",
   "metadata": {},
   "outputs": [
    {
     "name": "stdout",
     "output_type": "stream",
     "text": [
      "    session_id  cell_count\n",
      "0    704298735          95\n",
      "1    545446482         171\n",
      "2    657078119           9\n",
      "3    663485329         107\n",
      "4    652091264          17\n",
      "5    657390171           9\n",
      "6    510514474         226\n",
      "7    501704220         142\n",
      "8    612543999          13\n",
      "9    683257169         296\n",
      "10   502205092         292\n",
      "11   526504941         167\n",
      "12   658518486          12\n",
      "13   661437140          86\n",
      "14   501271265         215\n",
      "15   501836392         178\n",
      "16   672206735           9\n",
      "17   688678766         475\n",
      "18   652842572         244\n",
      "19   583279803          11\n",
      "20   653125130         224\n",
      "21   650079244          24\n",
      "22   510517131         266\n",
      "23   606353987          13\n",
      "24   670395999           3\n",
      "25   671164733          32\n",
      "26   680156911         337\n",
      "27   540684467         290\n",
      "28   667364442          87\n",
      "29   675477919          10\n",
      "30   692345003           7\n",
      "31   670728674          18\n",
      "32   502115959         205\n",
      "33   652094901         207\n",
      "34   657775947           8\n"
     ]
    }
   ],
   "source": [
    "import pandas as pd\n",
    "\n",
    "# Assuming session_ids contains multiple session IDs\n",
    "session_ids = [704298735, 545446482, 657078119, 663485329, 652091264, 657390171,\n",
    "       510514474, 501704220, 612543999, 683257169, 502205092, 526504941,\n",
    "       658518486, 661437140, 501271265, 501836392, 672206735, 688678766,\n",
    "       652842572, 583279803, 653125130, 650079244, 510517131, 606353987,\n",
    "       670395999, 671164733, 680156911, 540684467, 667364442, 675477919,\n",
    "       692345003, 670728674, 502115959, 652094901, 657775947] \n",
    "\n",
    "cell_counts = []\n",
    "\n",
    "for session_id in session_ids:\n",
    "    # Fetch data for each session\n",
    "    dataset = boc.get_ophys_experiment_data(ophys_experiment_id=session_id)\n",
    "    cell_ids = dataset.get_cell_specimen_ids()\n",
    "    \n",
    "    # Append the count of cells for each session\n",
    "    cell_counts.append({'session_id': session_id, 'cell_count': len(cell_ids)})\n",
    "\n",
    "# Create a DataFrame from the collected data\n",
    "df = pd.DataFrame(cell_counts)\n",
    "\n",
    "print(df)"
   ]
  },
  {
   "cell_type": "code",
   "execution_count": 59,
   "id": "5cdbec18",
   "metadata": {},
   "outputs": [
    {
     "name": "stdout",
     "output_type": "stream",
     "text": [
      "8\n"
     ]
    }
   ],
   "source": [
    "print(len(cell_ids))"
   ]
  },
  {
   "cell_type": "code",
   "execution_count": 60,
   "id": "ec691ffe",
   "metadata": {},
   "outputs": [
    {
     "name": "stdout",
     "output_type": "stream",
     "text": [
      "[0, 1, 2, 3, 4, 5, 6, 7]\n"
     ]
    }
   ],
   "source": [
    "cell_index = dataset.get_cell_specimen_indices(cell_ids)\n",
    "print(cell_index)"
   ]
  },
  {
   "cell_type": "markdown",
   "id": "dce98bc7",
   "metadata": {},
   "source": [
    "# Session Metadata"
   ]
  },
  {
   "cell_type": "code",
   "execution_count": 61,
   "id": "9adcc425",
   "metadata": {},
   "outputs": [
    {
     "data": {
      "text/plain": [
       "{'sex': 'female',\n",
       " 'targeted_structure': 'VISp',\n",
       " 'ophys_experiment_id': 657775947,\n",
       " 'experiment_container_id': 657775945,\n",
       " 'excitation_lambda': '910 nanometers',\n",
       " 'indicator': 'GCaMP6f',\n",
       " 'fov': '400x400 microns (512 x 512 pixels)',\n",
       " 'genotype': 'Vip-IRES-Cre/wt;Ai148(TIT2L-GC6f-ICL-tTA2)/wt',\n",
       " 'session_start_time': datetime.datetime(2018, 1, 18, 8, 30, 20),\n",
       " 'session_type': 'three_session_A',\n",
       " 'specimen_name': 'Vip-IRES-Cre;Ai148-355670',\n",
       " 'cre_line': 'Vip-IRES-Cre/wt',\n",
       " 'imaging_depth_um': 175,\n",
       " 'age_days': 130,\n",
       " 'device': 'Nikon A1R-MP multiphoton microscope',\n",
       " 'device_name': 'CAM2P.1',\n",
       " 'pipeline_version': '3.0'}"
      ]
     },
     "execution_count": 61,
     "metadata": {},
     "output_type": "execute_result"
    }
   ],
   "source": [
    "md = dataset.get_metadata()\n",
    "md"
   ]
  },
  {
   "cell_type": "markdown",
   "id": "49d68b24",
   "metadata": {},
   "source": [
    "# Population Decoding "
   ]
  },
  {
   "cell_type": "code",
   "execution_count": 62,
   "id": "f2710172",
   "metadata": {},
   "outputs": [],
   "source": [
    "  # Create a target variable y that is 1 when the orientation is 45 degrees and 0 otherwise\n",
    "  #target_orientation = 90\n",
    " # y = (stim_table.loc[selected_sweeps, 'orientation'] == target_orientation).astype(int)\n",
    "\n",
    "  # and set X to the response of the first cell from above, making sure it has shape (n_trials, 1)\n",
    "  X = selected_responses[:,cell_index]"
   ]
  },
  {
   "cell_type": "code",
   "execution_count": 63,
   "id": "1315be47",
   "metadata": {},
   "outputs": [
    {
     "name": "stdout",
     "output_type": "stream",
     "text": [
      "(598, 8)\n"
     ]
    }
   ],
   "source": [
    "print(X.shape)"
   ]
  },
  {
   "cell_type": "code",
   "execution_count": 64,
   "id": "df113c59",
   "metadata": {},
   "outputs": [
    {
     "name": "stdout",
     "output_type": "stream",
     "text": [
      "(598,)\n"
     ]
    }
   ],
   "source": [
    "from sklearn.preprocessing import LabelEncoder\n",
    "le = LabelEncoder()\n",
    "y = le.fit_transform(stim_table.loc[:, 'orientation'])\n",
    "print(y.shape)"
   ]
  },
  {
   "cell_type": "code",
   "execution_count": 65,
   "id": "840e4b81",
   "metadata": {},
   "outputs": [
    {
     "name": "stdout",
     "output_type": "stream",
     "text": [
      "[1 4 0 4 0 5 6 4 3 4 3 3 3 4 0 6 7 6 7 2 1 7 0 4 4 6 2 1 7 2 1 1 3 2 2 1 4\n",
      " 7 4 3 3 3 5 5 2 5 3 3 2 3 0 2 3 2 2 6 6 2 6 5 4 6 6 6 1 0 5 0 6 0 2 4 3 2\n",
      " 4 7 1 3 3 2 6 0 4 3 0 5 7 4 2 3 3 7 0 3 3 2 5 3 1 1 5 5 2 0 6 4 3 5 3 7 7\n",
      " 0 5 3 6 2 1 5 5 0 6 2 6 4 1 1 1 4 3 4 7 1 1 3 0 4 1 4 7 2 5 6 6 5 3 0 5 7\n",
      " 4 2 5 5 4 7 7 3 1 5 4 4 0 0 4 4 7 0 5 2 1 6 4 7 7 3 6 4 3 3 2 3 0 0 6 0 3\n",
      " 6 7 4 7 5 2 1 0 2 6 1 0 7 6 6 4 5 2 6 2 3 7 6 4 6 1 1 4 0 6 7 2 1 6 7 5 2\n",
      " 2 1 3 5 3 2 2 3 6 3 0 5 3 4 2 0 1 2 7 1 4 6 7 2 5 6 0 0 1 7 3 1 5 0 6 6 5\n",
      " 1 0 7 3 0 0 3 5 6 5 6 7 6 6 1 3 1 2 5 3 3 7 1 0 5 4 7 3 5 4 5 0 7 7 7 6 4\n",
      " 4 5 6 7 0 2 2 7 0 6 3 5 3 3 1 0 1 5 0 1 0 6 0 4 1 2 3 5 6 7 3 6 5 1 5 6 7\n",
      " 7 3 5 1 3 5 2 6 1 4 3 2 2 6 6 4 1 7 7 2 3 1 2 6 6 1 2 3 1 4 2 1 1 4 1 0 5\n",
      " 4 1 7 7 1 4 5 0 4 1 1 4 0 3 5 6 3 5 1 2 0 5 7 5 2 2 7 2 2 0 7 7 0 5 0 1 7\n",
      " 0 6 7 5 7 0 6 4 6 0 6 5 7 0 4 6 2 2 0 3 6 1 2 2 0 7 6 6 7 2 2 6 1 7 3 4 5\n",
      " 1 0 5 7 0 6 2 0 5 2 1 4 2 4 5 6 4 7 5 4 0 2 2 4 7 7 5 4 1 1 1 7 5 3 0 5 4\n",
      " 2 7 6 3 1 4 4 7 0 2 2 6 0 2 2 0 1 7 0 3 1 3 2 2 5 0 4 2 4 6 7 4 5 7 2 3 6\n",
      " 4 7 4 1 7 5 0 1 0 1 7 0 4 5 1 1 3 5 1 0 1 4 5 1 0 0 3 6 3 0 0 5 4 7 3 6 4\n",
      " 4 3 0 2 2 7 6 1 2 2 4 5 7 7 6 1 3 5 3 1 7 1 5 7 4 4 5 6 6 4 7 6 4 4 3 5 0\n",
      " 5 7 6 5 3 5]\n"
     ]
    }
   ],
   "source": [
    "print(y)"
   ]
  },
  {
   "cell_type": "code",
   "execution_count": 66,
   "id": "08afcc0f",
   "metadata": {},
   "outputs": [
    {
     "name": "stdout",
     "output_type": "stream",
     "text": [
      "598\n"
     ]
    }
   ],
   "source": [
    "print(len(X))"
   ]
  },
  {
   "cell_type": "code",
   "execution_count": 67,
   "id": "606629f7",
   "metadata": {},
   "outputs": [
    {
     "data": {
      "text/plain": [
       "<matplotlib.image.AxesImage at 0x7fa63ace52e0>"
      ]
     },
     "execution_count": 67,
     "metadata": {},
     "output_type": "execute_result"
    },
    {
     "data": {
      "image/png": "[encoded data removed]",
      "text/plain": [
       "<Figure size 432x288 with 1 Axes>"
      ]
     },
     "metadata": {
      "needs_background": "light"
     },
     "output_type": "display_data"
    }
   ],
   "source": [
    "import matplotlib.pyplot as plt \n",
    "plt.imshow(X)"
   ]
  },
  {
   "cell_type": "code",
   "execution_count": 68,
   "id": "3b570332",
   "metadata": {},
   "outputs": [
    {
     "name": "stdout",
     "output_type": "stream",
     "text": [
      "(598, 8)\n",
      "(598,)\n"
     ]
    }
   ],
   "source": [
    "print(X.shape)\n",
    "print(y.shape)"
   ]
  },
  {
   "cell_type": "code",
   "execution_count": 69,
   "id": "6ab7b0e3",
   "metadata": {},
   "outputs": [
    {
     "name": "stdout",
     "output_type": "stream",
     "text": [
      "-0.05788070689419297\n"
     ]
    }
   ],
   "source": [
    "print(X.mean())"
   ]
  },
  {
   "cell_type": "markdown",
   "id": "9450b3b5",
   "metadata": {},
   "source": [
    "# Checking the number of Orientation across neurons "
   ]
  },
  {
   "cell_type": "code",
   "execution_count": 70,
   "id": "651d7b4e",
   "metadata": {},
   "outputs": [
    {
     "name": "stdout",
     "output_type": "stream",
     "text": [
      "598\n"
     ]
    }
   ],
   "source": [
    "print(len(y))"
   ]
  },
  {
   "cell_type": "code",
   "execution_count": 71,
   "id": "644d613d",
   "metadata": {},
   "outputs": [
    {
     "data": {
      "text/plain": [
       "0.29333333333333333"
      ]
     },
     "execution_count": 71,
     "metadata": {},
     "output_type": "execute_result"
    }
   ],
   "source": [
    "from sklearn.svm import SVC\n",
    "from sklearn.model_selection import train_test_split\n",
    "model = SVC()\n",
    "\n",
    "# this introduces randomness, so set the random 'seed' for reproducibility\n",
    "np.random.seed(4)\n",
    "# stratify=y ensures that the train and test sets have the same proportion of each class\n",
    "X_train, X_test, y_train, y_test = train_test_split(X, y, stratify=y, test_size=0.25)\n",
    "\n",
    "\n",
    "# the accuracy for all of the cells\n",
    "model.fit(X_train,y_train)\n",
    "model.score(X_test,y_test)"
   ]
  },
  {
   "cell_type": "code",
   "execution_count": 72,
   "id": "42c1776c",
   "metadata": {},
   "outputs": [
    {
     "name": "stdout",
     "output_type": "stream",
     "text": [
      "150\n"
     ]
    }
   ],
   "source": [
    "print(len(X_test))"
   ]
  },
  {
   "cell_type": "code",
   "execution_count": 73,
   "id": "4aeaa40d",
   "metadata": {},
   "outputs": [
    {
     "data": {
      "image/png": "[encoded data removed]",
      "text/plain": [
       "<Figure size 432x288 with 2 Axes>"
      ]
     },
     "metadata": {
      "needs_background": "light"
     },
     "output_type": "display_data"
    }
   ],
   "source": [
    "from sklearn.metrics import ConfusionMatrixDisplay\n",
    "\n",
    "cn_display = ConfusionMatrixDisplay.from_estimator(model, X_test,y_test)"
   ]
  },
  {
   "cell_type": "markdown",
   "id": "3739ce44",
   "metadata": {},
   "source": [
    "# Number of sessions and Cells across Layers"
   ]
  },
  {
   "cell_type": "code",
   "execution_count": 74,
   "id": "33edd603",
   "metadata": {},
   "outputs": [],
   "source": [
    "#### Layer 2/3"
   ]
  },
  {
   "cell_type": "code",
   "execution_count": 75,
   "id": "bc3463e7",
   "metadata": {},
   "outputs": [
    {
     "name": "stdout",
     "output_type": "stream",
     "text": [
      "35\n"
     ]
    }
   ],
   "source": [
    "session_ids_layer23 = session_A[\"id\"].values\n",
    "print(len(session_ids_layer23))"
   ]
  },
  {
   "cell_type": "code",
   "execution_count": 76,
   "id": "55261c74",
   "metadata": {},
   "outputs": [
    {
     "name": "stdout",
     "output_type": "stream",
     "text": [
      "280\n"
     ]
    }
   ],
   "source": [
    "total_neurons = 0\n",
    "for session_id in session_ids_layer23: \n",
    "        total_neurons += len(dataset.get_cell_specimen_ids())  # Track the total number of neurons\n",
    "print(total_neurons)"
   ]
  },
  {
   "cell_type": "code",
   "execution_count": 77,
   "id": "c767f3db",
   "metadata": {},
   "outputs": [],
   "source": [
    "# Layer 4"
   ]
  },
  {
   "cell_type": "code",
   "execution_count": 78,
   "id": "8f6997e7",
   "metadata": {},
   "outputs": [
    {
     "ename": "NameError",
     "evalue": "name 'session_A_4' is not defined",
     "output_type": "error",
     "traceback": [
      "\u001b[0;31m---------------------------------------------------------------------------\u001b[0m",
      "\u001b[0;31mNameError\u001b[0m                                 Traceback (most recent call last)",
      "\u001b[0;32m<ipython-input-78-3e2ed8ac1afc>\u001b[0m in \u001b[0;36m<module>\u001b[0;34m\u001b[0m\n\u001b[0;32m----> 1\u001b[0;31m \u001b[0msession_ids_4\u001b[0m \u001b[0;34m=\u001b[0m \u001b[0msession_A_4\u001b[0m\u001b[0;34m[\u001b[0m\u001b[0;34m\"id\"\u001b[0m\u001b[0;34m]\u001b[0m\u001b[0;34m.\u001b[0m\u001b[0mvalues\u001b[0m\u001b[0;34m\u001b[0m\u001b[0;34m\u001b[0m\u001b[0m\n\u001b[0m\u001b[1;32m      2\u001b[0m \u001b[0mprint\u001b[0m\u001b[0;34m(\u001b[0m\u001b[0mlen\u001b[0m\u001b[0;34m(\u001b[0m\u001b[0msession_ids_4\u001b[0m\u001b[0;34m)\u001b[0m\u001b[0;34m)\u001b[0m\u001b[0;34m\u001b[0m\u001b[0;34m\u001b[0m\u001b[0m\n",
      "\u001b[0;31mNameError\u001b[0m: name 'session_A_4' is not defined"
     ]
    }
   ],
   "source": [
    "session_ids_4 = session_A_4[\"id\"].values\n",
    "print(len(session_ids_4))"
   ]
  },
  {
   "cell_type": "code",
   "execution_count": null,
   "id": "ca04f208",
   "metadata": {},
   "outputs": [],
   "source": [
    "total_neurons = 0\n",
    "for session_id in session_ids_4: \n",
    "        total_neurons += len(dataset.get_cell_specimen_ids())  # Track the total number of neurons\n",
    "print(total_neurons)"
   ]
  },
  {
   "cell_type": "code",
   "execution_count": null,
   "id": "dafd2b98",
   "metadata": {},
   "outputs": [],
   "source": [
    "## Layer 5"
   ]
  },
  {
   "cell_type": "code",
   "execution_count": null,
   "id": "fc204864",
   "metadata": {},
   "outputs": [],
   "source": [
    "session_ids_5 = session_A_5[\"id\"].values\n",
    "print(len(session_ids_5))"
   ]
  },
  {
   "cell_type": "code",
   "execution_count": null,
   "id": "6bc6815e",
   "metadata": {},
   "outputs": [],
   "source": [
    "total_neurons = 0\n",
    "for session_id in session_ids_5: \n",
    "        total_neurons += len(dataset.get_cell_specimen_ids())  # Track the total number of neurons\n",
    "print(total_neurons)"
   ]
  },
  {
   "cell_type": "code",
   "execution_count": null,
   "id": "a0e417c7",
   "metadata": {},
   "outputs": [],
   "source": [
    "### Layer 6"
   ]
  },
  {
   "cell_type": "code",
   "execution_count": null,
   "id": "3949b89c",
   "metadata": {},
   "outputs": [],
   "source": [
    "session_ids_6 = session_A_6[\"id\"].values\n",
    "print(len(session_ids_6))"
   ]
  },
  {
   "cell_type": "code",
   "execution_count": null,
   "id": "4d4bbf37",
   "metadata": {},
   "outputs": [],
   "source": [
    "total_neurons = 0\n",
    "for session_id in session_ids_6: \n",
    "        total_neurons += len(dataset.get_cell_specimen_ids())  # Track the total number of neurons\n",
    "print(total_neurons)"
   ]
  },
  {
   "cell_type": "markdown",
   "id": "ee3281c2",
   "metadata": {},
   "source": [
    "# Trying population decoding across different Sessions"
   ]
  },
  {
   "cell_type": "code",
   "execution_count": null,
   "id": "170b5067",
   "metadata": {},
   "outputs": [],
   "source": [
    "from sklearn.metrics import ConfusionMatrixDisplay\n",
    "from sklearn.preprocessing import LabelEncoder\n",
    "\n",
    "\n",
    "# Function to get mean response  for a session\n",
    "def norm_sweep_response(sessionId):\n",
    "    '''- This function takes in a session id,\n",
    "     - retrieves the stimulus table,\n",
    "     - computes the mean response.\n",
    "     - normalizes the mean response\n",
    "     -  select a subset of norm_responses at a particular temporal frequency and returns it.\n",
    "\n",
    "    '''\n",
    "    dataset = boc.get_ophys_experiment_data(ophys_experiment_id=sessionId)\n",
    "    stim_table = dataset.get_stimulus_table(\"drifting_gratings\")\n",
    "    orivals = stim_table.orientation.dropna().unique()  \n",
    "    tfvals = stim_table.temporal_frequency.dropna().unique()\n",
    "\n",
    "    \n",
    "    timestamps, dff = dataset.get_dff_traces()\n",
    "    stim_table = stim_table[stim_table['blank_sweep']==False]\n",
    "    all_cells_index = range(dff.shape[0])\n",
    "    mean_sweep_response = pd.DataFrame(index=stim_table.index, columns=all_cells_index, dtype=float)\n",
    "    # you'll need to loop over trials, but try not to loop over cells!\n",
    "\n",
    "    for trial in stim_table.index:\n",
    "        mean_sweep_response.loc[trial, :] = dff[\n",
    "            :, stim_table.loc[trial, \"start\"] : stim_table.loc[trial, \"end\"]\n",
    "        ].mean(axis=1)\n",
    "    \n",
    "\n",
    "    # Normalize the responses\n",
    "\n",
    "    norm_responses = mean_sweep_response.values\n",
    "    norm_responses = (norm_responses - norm_responses.mean(axis=1, keepdims=True)) / norm_responses.std(axis=1, keepdims=True)\n",
    "\n",
    "    #selected_sweeps = (stim_table['temporal_frequency'] == 2.0)\n",
    "    selected_responses = norm_responses[:]\n",
    "\n",
    "    # get cell Indice\n",
    "    cell_ids = dataset.get_cell_specimen_ids()\n",
    "    cells_index = dataset.get_cell_specimen_indices(cell_ids)\n",
    "\n",
    "    # First define X and y\n",
    "\n",
    "    # Create a target variable y that is 1 when the orientation is 45 degrees and 0 otherwise\n",
    "    #target_orientation = 45\n",
    "    #y = (stim_table.loc[selected_sweeps, 'orientation'] == target_orientation).astype(int)\n",
    "\n",
    "    # and set X to the response of the first cell from above, making sure it has shape (n_trials, 1)\n",
    "    X = selected_responses[:,cells_index]\n",
    "\n",
    "    le = LabelEncoder()\n",
    "    y = le.fit_transform(stim_table.loc[:, 'orientation'])\n",
    "    # print(X.mean())\n",
    "\n",
    "    return X, y"
   ]
  },
  {
   "cell_type": "code",
   "execution_count": null,
   "id": "57d00328",
   "metadata": {
    "tags": []
   },
   "outputs": [],
   "source": [
    "from typing import Text\n",
    "from sklearn.ensemble import RandomForestClassifier\n",
    "from sklearn.model_selection import train_test_split\n",
    "from sklearn.metrics import confusion_matrix\n",
    "import numpy as np\n",
    "class_names = ['1', '2', '3', '4', '5', '6', '7', '8']\n",
    "from sklearn.svm import SVC\n",
    "\n",
    "# this introduces randomness, so set the random 'seed' for reproducibility\n",
    "np.random.seed(4)\n",
    "# stratify=y ensures that the train and test sets have the same proportion of each class\n",
    "# X_train, X_test, y_train, y_test = train_test_split(X, y, stratify=y, test_size=0.25)\n",
    "\n",
    "\n",
    "# # the accuracy for all of the cells\n",
    "# model.fit(X_train,y_train)\n",
    "# model.score(X_test,y_test)\n",
    "\n",
    "def make_predictions(X, y):\n",
    "    np.random.seed(8)\n",
    "    # stratify=y ensures that the train and test sets have the same proportion of each class\n",
    "    X_train, X_test, y_train, y_test = train_test_split(X, y, stratify=y, test_size=0.25)\n",
    "\n",
    "    model = SVC()\n",
    "    model.fit(X_train, y_train)\n",
    "    y_pred  = model.predict(X_test)\n",
    "    accuracy_ = model.score(X_test, y_test)\n",
    "    plt.figure()\n",
    "    ConfusionMatrixDisplay.from_estimator(model, X_test,y_test)\n",
    "\n",
    "    return accuracy_, confusion_matrix(y_test, y_pred, normalize='all')\n"
   ]
  },
  {
   "cell_type": "code",
   "execution_count": null,
   "id": "d54d4707",
   "metadata": {},
   "outputs": [],
   "source": [
    "import seaborn as sns\n",
    "\n",
    "def plot_confusion_matrix(conf_matrix, class_names):\n",
    "    plt.figure(figsize=(8, 6))\n",
    "    sns.heatmap(conf_matrix, annot=True, fmt='.2f', cmap='Blues', cbar=False,\n",
    "                xticklabels=class_names, yticklabels=class_names)\n",
    "    plt.title('Average Confusion Matrix')\n",
    "    plt.xlabel('Predicted Label')\n",
    "    plt.ylabel('True Label')\n",
    "    plt.show()\n",
    "\n",
    "def evaluate_sessions(session_ids):\n",
    "    all_accuracies = []\n",
    "    all_conf_matrices = []\n",
    "\n",
    "    # Step 1: Count the number of cells in each session\n",
    "    cell_counts = []\n",
    "    for session_id in session_ids:\n",
    "        dataset = boc.get_ophys_experiment_data(ophys_experiment_id=session_id)\n",
    "        cell_ids = dataset.get_cell_specimen_ids()\n",
    "        cell_counts.append({'session_id': session_id, 'cell_count': len(cell_ids)})\n",
    "\n",
    "    df = pd.DataFrame(cell_counts)\n",
    "    \n",
    "    # Step 2: Filter out sessions with fewer than 50 cells\n",
    "    filtered_session_ids = df[df['cell_count'] > 100]['session_id'].tolist()\n",
    "\n",
    "    for session_id in filtered_session_ids: \n",
    "        X, y = norm_sweep_response(session_id)\n",
    "        total_neurons += len(dataset.get_cell_specimen_ids())  # Track the total number of neurons\n",
    "        accuracy, conf_matrix = make_predictions(X, y)\n",
    "        all_accuracies.append(accuracy)\n",
    "        all_conf_matrices.append(conf_matrix)\n",
    "\n",
    "    avg_accuracy = sum(all_accuracies) / len(all_accuracies)\n",
    "    avg_confusion_matrix = np.mean(all_conf_matrices, axis=0)\n",
    "\n",
    "    return avg_accuracy, avg_confusion_matrix, total_neurons"
   ]
  },
  {
   "cell_type": "code",
   "execution_count": null,
   "id": "4277f63a",
   "metadata": {},
   "outputs": [],
   "source": [
    "# Example usage\n",
    "session_ids = [704298735, 545446482, 657078119, 663485329, 652091264, 657390171,\n",
    "       510514474, 501704220, 612543999, 683257169, 502205092, 526504941,\n",
    "       658518486, 661437140, 501271265, 501836392, 672206735, 688678766,\n",
    "       652842572, 583279803, 653125130, 650079244, 510517131, 606353987,\n",
    "       670395999, 671164733, 680156911, 540684467, 667364442, 675477919,\n",
    "       692345003, 670728674, 502115959, 652094901, 657775947]\n",
    "avg_accuracy, avg_conf_matrix = evaluate_sessions(session_ids)\n",
    "\n",
    "print(f\"Average Accuracy: {avg_accuracy}\")\n",
    "plot_confusion_matrix(avg_conf_matrix, class_names)"
   ]
  },
  {
   "cell_type": "code",
   "execution_count": null,
   "id": "c35aa4c3",
   "metadata": {},
   "outputs": [],
   "source": [
    "evaluate_sessions([688678766])"
   ]
  },
  {
   "cell_type": "markdown",
   "id": "55aee4cb",
   "metadata": {},
   "source": [
    "# For all of the layers"
   ]
  },
  {
   "cell_type": "markdown",
   "id": "6e815ba8",
   "metadata": {},
   "source": [
    "# Layer 2/3"
   ]
  },
  {
   "cell_type": "code",
   "execution_count": null,
   "id": "8848befb",
   "metadata": {},
   "outputs": [],
   "source": [
    "avg_acc_l23, avg_conf_mat_l23, _, l23_acc = evaluate_sessions(session_ids)\n",
    "print(avg_acc_l23)\n",
    "plot_confusion_matrix(avg_conf_mat_l23, class_names)"
   ]
  },
  {
   "cell_type": "markdown",
   "id": "9bbdc0dc",
   "metadata": {},
   "source": [
    "# Layer 4"
   ]
  },
  {
   "cell_type": "code",
   "execution_count": null,
   "id": "f6736f33",
   "metadata": {},
   "outputs": [],
   "source": [
    "ids_4  = df_layer4[\"id\"].values"
   ]
  },
  {
   "cell_type": "code",
   "execution_count": null,
   "id": "2b4ecab1",
   "metadata": {},
   "outputs": [],
   "source": [
    "sessions_4 = boc.get_ophys_experiments(experiment_container_ids = ids_4)"
   ]
  },
  {
   "cell_type": "code",
   "execution_count": null,
   "id": "9d19410a",
   "metadata": {},
   "outputs": [],
   "source": [
    "layer_4 = pd.DataFrame(sessions_4)\n",
    "layer_4.head()"
   ]
  },
  {
   "cell_type": "code",
   "execution_count": null,
   "id": "ef8ce681",
   "metadata": {},
   "outputs": [],
   "source": [
    "session_A_4 = layer_4[layer_4[\"session_type\"] == \"three_session_A\"]  "
   ]
  },
  {
   "cell_type": "code",
   "execution_count": null,
   "id": "48b7fe5c",
   "metadata": {},
   "outputs": [],
   "source": [
    "session_A_4.head()"
   ]
  },
  {
   "cell_type": "code",
   "execution_count": null,
   "id": "f7cfa392",
   "metadata": {},
   "outputs": [],
   "source": [
    "session_ids_4 = session_A_4[\"id\"].values"
   ]
  },
  {
   "cell_type": "code",
   "execution_count": null,
   "id": "cecda1dc",
   "metadata": {},
   "outputs": [],
   "source": [
    "session_ids_4"
   ]
  },
  {
   "cell_type": "code",
   "execution_count": null,
   "id": "20e59b1e",
   "metadata": {},
   "outputs": [],
   "source": [
    "avg_acc_l4, avg_conf_mat_l4 = evaluate_sessions(session_ids_4)\n",
    "print(avg_acc_l4)\n",
    "plot_confusion_matrix(avg_conf_mat_l4, class_names)"
   ]
  },
  {
   "cell_type": "markdown",
   "id": "256845d5",
   "metadata": {},
   "source": [
    "# Layer 5"
   ]
  },
  {
   "cell_type": "code",
   "execution_count": null,
   "id": "2ba771c8",
   "metadata": {},
   "outputs": [],
   "source": [
    "ids_6  = df_layer5[\"id\"].values"
   ]
  },
  {
   "cell_type": "code",
   "execution_count": null,
   "id": "c3051d32",
   "metadata": {},
   "outputs": [],
   "source": [
    "sessions_5 = boc.get_ophys_experiments(experiment_container_ids = ids_6)"
   ]
  },
  {
   "cell_type": "code",
   "execution_count": null,
   "id": "4df377cc",
   "metadata": {},
   "outputs": [],
   "source": [
    "layer_5 = pd.DataFrame(sessions_5)\n",
    "layer_5.head()"
   ]
  },
  {
   "cell_type": "code",
   "execution_count": null,
   "id": "12f1ca13",
   "metadata": {},
   "outputs": [],
   "source": [
    "session_A_5 = layer_5[layer_5[\"session_type\"] == \"three_session_A\"]  "
   ]
  },
  {
   "cell_type": "code",
   "execution_count": null,
   "id": "078668c7",
   "metadata": {},
   "outputs": [],
   "source": [
    "session_A_5.head()"
   ]
  },
  {
   "cell_type": "code",
   "execution_count": null,
   "id": "c2456645",
   "metadata": {},
   "outputs": [],
   "source": [
    "session_ids_5 = session_A_5[\"id\"].values"
   ]
  },
  {
   "cell_type": "code",
   "execution_count": null,
   "id": "5819056a",
   "metadata": {},
   "outputs": [],
   "source": [
    "session_ids_5"
   ]
  },
  {
   "cell_type": "code",
   "execution_count": null,
   "id": "96e97b5d",
   "metadata": {},
   "outputs": [],
   "source": [
    "avg_acc_l5, avg_conf_mat_l5 = evaluate_sessions(session_ids_5)\n",
    "print(avg_acc_l5)\n",
    "plot_confusion_matrix(avg_conf_mat_l5, class_names)"
   ]
  },
  {
   "cell_type": "markdown",
   "id": "11f37eca",
   "metadata": {},
   "source": [
    "# Layer 6 "
   ]
  },
  {
   "cell_type": "code",
   "execution_count": null,
   "id": "a5f8dfa9",
   "metadata": {},
   "outputs": [],
   "source": [
    "ids_6  = df_layer6[\"id\"].values"
   ]
  },
  {
   "cell_type": "code",
   "execution_count": null,
   "id": "506b90ed",
   "metadata": {},
   "outputs": [],
   "source": [
    "sessions_6 = boc.get_ophys_experiments(experiment_container_ids = ids_6)"
   ]
  },
  {
   "cell_type": "code",
   "execution_count": null,
   "id": "1abb3aae",
   "metadata": {},
   "outputs": [],
   "source": [
    "layer_6 = pd.DataFrame(sessions_6)\n",
    "layer_6.head()"
   ]
  },
  {
   "cell_type": "code",
   "execution_count": null,
   "id": "0fad058b",
   "metadata": {},
   "outputs": [],
   "source": [
    "session_A_6 = layer_6[layer_6[\"session_type\"] == \"three_session_A\"]"
   ]
  },
  {
   "cell_type": "code",
   "execution_count": null,
   "id": "8213fe36",
   "metadata": {},
   "outputs": [],
   "source": [
    "session_A_6.head()"
   ]
  },
  {
   "cell_type": "code",
   "execution_count": null,
   "id": "eecf2ba0",
   "metadata": {},
   "outputs": [],
   "source": [
    "session_ids_6 = session_A_6[\"id\"].values"
   ]
  },
  {
   "cell_type": "code",
   "execution_count": null,
   "id": "25d5c49a",
   "metadata": {},
   "outputs": [],
   "source": [
    "session_ids_6"
   ]
  },
  {
   "cell_type": "code",
   "execution_count": null,
   "id": "ae20c346",
   "metadata": {},
   "outputs": [],
   "source": [
    "avg_acc_l6, avg_conf_mat_l6 = evaluate_sessions(session_ids_6)\n",
    "print(avg_acc_l6)\n",
    "plot_confusion_matrix(avg_conf_mat_l6, class_names)"
   ]
  },
  {
   "cell_type": "markdown",
   "id": "41587447",
   "metadata": {},
   "source": [
    "session_ids_layer23# Neuron Significance Across Specialized Layer"
   ]
  },
  {
   "cell_type": "code",
   "execution_count": null,
   "id": "d19a2f6c",
   "metadata": {},
   "outputs": [],
   "source": [
    "import pandas as pd\n",
    "import numpy as np\n",
    "import matplotlib.pyplot as plt\n",
    "import seaborn as sns\n",
    "from sklearn.ensemble import RandomForestClassifier\n",
    "from sklearn.preprocessing import LabelEncoder\n",
    "from sklearn.model_selection import train_test_split\n",
    "from sklearn.metrics import confusion_matrix, ConfusionMatrixDisplay\n",
    "\n",
    "# Assuming boc is already defined\n",
    "\n",
    "def norm_sweep_response(sessionId):\n",
    "    dataset = boc.get_ophys_experiment_data(ophys_experiment_id=sessionId)\n",
    "    stim_table = dataset.get_stimulus_table(\"drifting_gratings\")\n",
    "    stim_table = stim_table[stim_table['blank_sweep'] == False]  # Filter out blank sweeps\n",
    "\n",
    "    timestamps, dff = dataset.get_dff_traces()\n",
    "    mean_sweep_response = pd.DataFrame(index=stim_table.index, columns=range(dff.shape[0]), dtype=float)\n",
    "\n",
    "    for trial in stim_table.index:\n",
    "        start, end = stim_table.loc[trial, ['start', 'end']]\n",
    "        mean_sweep_response.loc[trial, :] = dff[:, start:end].mean(axis=1)\n",
    "\n",
    "    # Normalize responses\n",
    "    norm_responses = (mean_sweep_response - mean_sweep_response.mean()) / mean_sweep_response.std()\n",
    "    X = norm_responses.values\n",
    "\n",
    "    le = LabelEncoder()\n",
    "    y = le.fit_transform(stim_table['orientation'])\n",
    "\n",
    "    return X, y, mean_sweep_response.columns\n",
    "\n",
    "def feature_importance(X, y):\n",
    "    model = RandomForestClassifier(n_estimators=100, random_state=42)\n",
    "    model.fit(X, y)\n",
    "    importances = model.feature_importances_\n",
    "\n",
    "    return importances\n",
    "\n",
    "def plot_feature_importance(importances, neuron_ids):\n",
    "    sns.barplot(x=neuron_ids, y=importances, palette='viridis')\n",
    "    plt.title('Feature Importance in Neural Encoding')\n",
    "    plt.xlabel('Neuron ID')\n",
    "    plt.ylabel('Importance')\n",
    "    plt.show()\n",
    "\n",
    "def evaluate_sessions(session_ids):\n",
    "    session_importances = []\n",
    "\n",
    "    for session_id in session_ids:\n",
    "        X, y, neuron_ids = norm_sweep_response(session_id)\n",
    "        importances = feature_importance(X, y)\n",
    "        session_importances.append(importances)\n",
    "\n",
    "        # Optionally visualize the importance for each session\n",
    "        plot_feature_importance(importances, neuron_ids)\n",
    "\n",
    "    # Aggregate feature importance across sessions\n",
    "    avg_importance = np.mean(session_importances, axis=0)\n",
    "    plot_feature_importance(avg_importance, neuron_ids)\n",
    "\n",
    "    return avg_importance\n",
    "\n",
    "# Example usage\n",
    "session_ids = [...]  # List your session IDs\n",
    "avg_importance = evaluate_sessions(session_ids)\n"
   ]
  },
  {
   "cell_type": "markdown",
   "id": "fe51ab7e",
   "metadata": {},
   "source": [
    "# Subsample the neuron sizes "
   ]
  },
  {
   "cell_type": "code",
   "execution_count": null,
   "id": "5b8f725b",
   "metadata": {},
   "outputs": [],
   "source": [
    "import random\n",
    "def norm_sweep_response(sessionId, num_neurons=None):\n",
    "    dataset = boc.get_ophys_experiment_data(ophys_experiment_id=sessionId)\n",
    "    stim_table = dataset.get_stimulus_table(\"drifting_gratings\")\n",
    "    stim_table = stim_table[stim_table['blank_sweep'] == False]\n",
    "\n",
    "    timestamps, dff = dataset.get_dff_traces()\n",
    "    cell_ids = dataset.get_cell_specimen_ids()\n",
    "    if num_neurons is not None and num_neurons < len(cell_ids):\n",
    "        selected_cells = random.sample(list(cell_ids), num_neurons)\n",
    "        cells_index = dataset.get_cell_specimen_indices(selected_cells)\n",
    "    else:\n",
    "        cells_index = range(dff.shape[0])\n",
    "\n",
    "    mean_sweep_response = pd.DataFrame(index=stim_table.index, columns=cells_index, dtype=float)\n",
    "\n",
    "    for trial in stim_table.index:\n",
    "        start = stim_table.loc[trial, \"start\"]\n",
    "        end = stim_table.loc[trial, \"end\"]\n",
    "        mean_sweep_response.loc[trial, :] = dff[cells_index, start:end].mean(axis=1)\n",
    "\n",
    "    norm_responses = mean_sweep_response.values\n",
    "    norm_responses = (norm_responses - norm_responses.mean(axis=1, keepdims=True)) / norm_responses.std(axis=1, keepdims=True)\n",
    "    \n",
    "    X = norm_responses\n",
    "    le = LabelEncoder()\n",
    "    y = le.fit_transform(stim_table.loc[:, 'orientation'])\n",
    "\n",
    "    return X, y\n",
    "\n",
    "def evaluate_sessions(session_ids, neuron_sample_sizes):\n",
    "    all_accuracies = {n: [] for n in neuron_sample_sizes}\n",
    "    all_conf_matrices = {n: [] for n in neuron_sample_sizes}\n",
    "\n",
    "    for session_id in session_ids:\n",
    "        dataset = boc.get_ophys_experiment_data(ophys_experiment_id=session_id)\n",
    "        cell_count = len(dataset.get_cell_specimen_ids())\n",
    "\n",
    "        for n in neuron_sample_sizes:\n",
    "            if n <= cell_count:  # Ensure there are enough cells to sample\n",
    "                X, y = norm_sweep_response(session_id, num_neurons=n)\n",
    "                accuracy, conf_matrix = make_predictions(X, y)\n",
    "                all_accuracies[n].append(accuracy)\n",
    "                all_conf_matrices[n].append(conf_matrix)\n",
    "\n",
    "    # Calculate average accuracy and confusion matrix for each neuron sample size\n",
    "    avg_accuracies = {n: np.mean(all_accuracies[n]) for n in neuron_sample_sizes}\n",
    "    avg_conf_matrices = {n: np.mean(all_conf_matrices[n], axis=0) for n in neuron_sample_sizes}\n",
    "\n",
    "    return avg_accuracies, avg_conf_matrices\n",
    "\n",
    "# Neuron sample sizes to test\n",
    "neuron_sample_sizes = [10, 20, 30, 50, 100]\n",
    "\n",
    "# Calculate decoding performances\n",
    "avg_accuracies, avg_conf_matrices = evaluate_sessions(session_ids, neuron_sample_sizes)\n",
    "\n",
    "class_names = ['1', '2', '3', '4', '5', '6', '7', '8']\n",
    "# Display results\n",
    "for n in neuron_sample_sizes:\n",
    "    print(f\"Average Accuracy with {n} neurons: {avg_accuracies[n]}\")\n",
    "    plot_confusion_matrix(avg_conf_matrices[n], class_names)  # Assuming class_names are defined\n"
   ]
  },
  {
   "cell_type": "code",
   "execution_count": null,
   "id": "3674dc8d",
   "metadata": {},
   "outputs": [],
   "source": [
    "from sklearn.metrics import ConfusionMatrixDisplay\n",
    "from sklearn.preprocessing import LabelEncoder\n",
    "from sklearn.ensemble import RandomForestClassifier\n",
    "from sklearn.model_selection import train_test_split\n",
    "import pandas as pd\n",
    "import numpy as np\n",
    "import matplotlib.pyplot as plt\n",
    "import seaborn as sns\n",
    "\n",
    "# Assuming boc and all necessary imports are already defined\n",
    "\n",
    "def norm_sweep_response(sessionId):\n",
    "    dataset = boc.get_ophys_experiment_data(ophys_experiment_id=sessionId)\n",
    "    stim_table = dataset.get_stimulus_table(\"drifting_gratings\")\n",
    "    stim_table = stim_table[stim_table['blank_sweep'] == False]\n",
    "\n",
    "    timestamps, dff = dataset.get_dff_traces()\n",
    "    mean_sweep_response = pd.DataFrame(index=stim_table.index, columns=range(dff.shape[0]), dtype=float)\n",
    "\n",
    "    for trial in stim_table.index:\n",
    "        start = stim_table.loc[trial, \"start\"]\n",
    "        end = stim_table.loc[trial, \"end\"]\n",
    "        mean_sweep_response.loc[trial, :] = dff[:, start:end].mean(axis=1)\n",
    "\n",
    "    norm_responses = (mean_sweep_response - mean_sweep_response.mean()) / mean_sweep_response.std()\n",
    "    X = norm_responses.values\n",
    "\n",
    "    le = LabelEncoder()\n",
    "    y = le.fit_transform(stim_table['orientation'])\n",
    "\n",
    "    return X, y\n",
    "\n",
    "def feature_importance(X_train, y_train):\n",
    "    model = RandomForestClassifier(n_estimators=100, random_state=42)\n",
    "    model.fit(X_train, y_train)\n",
    "    importances = model.feature_importances_\n",
    "    return model, importances\n",
    "\n",
    "def evaluate_sessions(session_ids):\n",
    "    all_accuracies = []\n",
    "    all_importances = []\n",
    "\n",
    "    for session_id in session_ids:\n",
    "        dataset = boc.get_ophys_experiment_data(ophys_experiment_id=session_id)\n",
    "        if len(dataset.get_cell_specimen_ids()) >= 50:\n",
    "            X, y = norm_sweep_response(session_id)\n",
    "            X_train, X_test, y_train, y_test = train_test_split(X, y, test_size=0.25, random_state=42, stratify=y)\n",
    "            model, importances = feature_importance(X_train, y_train)\n",
    "            accuracy = model.score(X_test, y_test)\n",
    "            all_accuracies.append(accuracy)\n",
    "            all_importances.append(importances)\n",
    "\n",
    "    avg_accuracy = np.mean(all_accuracies)\n",
    "    avg_importances = np.mean(all_importances, axis=0)\n",
    "    return avg_accuracy, avg_importances\n",
    "\n",
    "def plot_feature_importance(importances):\n",
    "    plt.figure(figsize=(10, 6))\n",
    "    sns.barplot(x=np.arange(len(importances)), y=importances, palette='viridis')\n",
    "    plt.title('Feature Importance in Neural Encoding')\n",
    "    plt.xlabel('Neuron ID')\n",
    "    plt.ylabel('Importance')\n",
    "    plt.show()\n",
    "\n",
    "# List your session IDs\n",
    "session_ids = session_A[\"id\"].values # abbreviated for brevity\n",
    "avg_accuracy, avg_importances = evaluate_sessions(session_ids)\n",
    "print(f\"Average Accuracy: {avg_accuracy}\")\n",
    "plot_feature_importance(avg_importances)\n"
   ]
  },
  {
   "cell_type": "code",
   "execution_count": null,
   "id": "0076cca1",
   "metadata": {},
   "outputs": [],
   "source": [
    "from sklearn.ensemble import RandomForestClassifier\n",
    "from sklearn.model_selection import train_test_split\n",
    "from sklearn.preprocessing import LabelEncoder\n",
    "import pandas as pd\n",
    "import numpy as np\n",
    "\n",
    "def norm_sweep_response(sessionId):\n",
    "    dataset = boc.get_ophys_experiment_data(ophys_experiment_id=sessionId)\n",
    "    stim_table = dataset.get_stimulus_table(\"drifting_gratings\")\n",
    "    stim_table = stim_table[stim_table['blank_sweep'] == False]\n",
    "    timestamps, dff = dataset.get_dff_traces()\n",
    "    cell_ids = dataset.get_cell_specimen_ids()\n",
    "    cells_index = range(dff.shape[0])\n",
    "\n",
    "    mean_sweep_response = pd.DataFrame(index=stim_table.index, columns=cells_index, dtype=float)\n",
    "    for trial in stim_table.index:\n",
    "        start = stim_table.loc[trial, \"start\"]\n",
    "        end = stim_table.loc[trial, \"end\"]\n",
    "        mean_sweep_response.loc[trial, :] = dff[:, start:end].mean(axis=1)\n",
    "\n",
    "    norm_responses = (mean_sweep_response.values - mean_sweep_response.values.mean(axis=1, keepdims=True)) / mean_sweep_response.values.std(axis=1, keepdims=True)\n",
    "    X = norm_responses\n",
    "    y = LabelEncoder().fit_transform(stim_table['orientation'])\n",
    "\n",
    "    return X, y, cell_ids\n",
    "\n",
    "def feature_importance(X, y):\n",
    "    model = RandomForestClassifier(n_estimators=100, random_state=42)\n",
    "    model.fit(X, y)\n",
    "    importances = model.feature_importances_\n",
    "    return model, importances\n",
    "\n",
    "# def evaluate_sessions(session_ids, top_n_neurons=5):\n",
    "#     important_neurons = {}\n",
    "\n",
    "#     for session_id in session_ids:\n",
    "#         X, y, cell_ids = norm_sweep_response(session_id)\n",
    "#         model, importances = feature_importance(X, y)\n",
    "#         top_neurons_indices = np.argsort(importances)[-top_n_neurons:]\n",
    "#         important_neurons[session_id] = [cell_ids[index] for index in top_neurons_indices]\n",
    "\n",
    "#     return important_neurons\n",
    "\n",
    "def plot_neuron_importances_all(importances, cell_ids, session_id):\n",
    "    \"\"\"Plot the importance of all neurons for a given session.\"\"\"\n",
    "    plt.figure(figsize=(15, 5))\n",
    "    indices = np.argsort(importances)\n",
    "    sorted_importances = importances[indices]\n",
    "    sorted_cell_ids = [cell_ids[idx] for idx in indices]\n",
    "\n",
    "    plt.bar(range(len(importances)), sorted_importances, color='lightblue')\n",
    "    plt.xlabel('Neurons')\n",
    "    plt.ylabel('Importance')\n",
    "    plt.title(f'Feature Importances of All Neurons in Session {session_id}')\n",
    "    plt.show()\n",
    "\n",
    "def plot_top_neurons(importances, cell_ids, session_id, top_n=10):\n",
    "    \"\"\"Plot the top N important neurons for a given session.\"\"\"\n",
    "    plt.figure(figsize=(10, 5))\n",
    "    indices = np.argsort(importances)[-top_n:]\n",
    "    top_importances = importances[indices]\n",
    "    top_cell_ids = [cell_ids[idx] for idx in indices]\n",
    "\n",
    "    sns.barplot(x=top_cell_ids, y=top_importances, palette='viridis')\n",
    "    plt.xlabel('Neuron ID')\n",
    "    plt.ylabel('Importance')\n",
    "    plt.title(f'Top {top_n} Important Neurons in Session {session_id}')\n",
    "    plt.show()\n",
    "\n",
    "def evaluate_and_plot(session_id, top_n_neurons=10):\n",
    "    X, y, cell_ids = norm_sweep_response(session_id)\n",
    "    model, importances = feature_importance(X, y)\n",
    "\n",
    "    # Plot all neurons\n",
    "    plot_neuron_importances_all(importances, cell_ids, session_id)\n",
    "    \n",
    "    # Plot top N neurons\n",
    "    plot_top_neurons(importances, cell_ids, session_id, top_n=top_n_neurons)\n",
    "\n",
    "# Choose a specific session ID to plot\n",
    "specific_session_id = 704298735\n",
    "evaluate_and_plot(specific_session_id, top_n_neurons=10)"
   ]
  },
  {
   "cell_type": "code",
   "execution_count": null,
   "id": "44618559",
   "metadata": {},
   "outputs": [],
   "source": [
    "from sklearn.metrics import ConfusionMatrixDisplay\n",
    "from sklearn.preprocessing import LabelEncoder\n",
    "\n",
    "\n",
    "# Function to get mean response  for a session\n",
    "def norm_sweep_response(sessionId):\n",
    "    '''- This function takes in a session id,\n",
    "     - retrieves the stimulus table,\n",
    "     - computes the mean response.\n",
    "     - normalizes the mean response\n",
    "     -  select a subset of norm_responses at a particular temporal frequency and returns it.\n",
    "\n",
    "    '''\n",
    "    dataset = boc.get_ophys_experiment_data(ophys_experiment_id=sessionId)\n",
    "    stim_table = dataset.get_stimulus_table(\"drifting_gratings\")\n",
    "    orivals = stim_table.orientation.dropna().unique()  \n",
    "    tfvals = stim_table.temporal_frequency.dropna().unique()\n",
    "\n",
    "    \n",
    "    timestamps, dff = dataset.get_dff_traces()\n",
    "    stim_table = stim_table[stim_table['blank_sweep']==False]\n",
    "    all_cells_index = range(dff.shape[0])\n",
    "    mean_sweep_response = pd.DataFrame(index=stim_table.index, columns=all_cells_index, dtype=float)\n",
    "    # you'll need to loop over trials, but try not to loop over cells!\n",
    "\n",
    "    for trial in stim_table.index:\n",
    "        mean_sweep_response.loc[trial, :] = dff[\n",
    "            :, stim_table.loc[trial, \"start\"] : stim_table.loc[trial, \"end\"]\n",
    "        ].mean(axis=1)\n",
    "    \n",
    "\n",
    "    # Normalize the responses\n",
    "\n",
    "    norm_responses = mean_sweep_response.values\n",
    "    norm_responses = (norm_responses - norm_responses.mean(axis=1, keepdims=True)) / norm_responses.std(axis=1, keepdims=True)\n",
    "\n",
    "    #selected_sweeps = (stim_table['temporal_frequency'] == 2.0)\n",
    "    selected_responses = norm_responses[:]\n",
    "\n",
    "    # get cell Indice\n",
    "    cell_ids = dataset.get_cell_specimen_ids()\n",
    "    cells_index = dataset.get_cell_specimen_indices(cell_ids)\n",
    "\n",
    "    # First define X and y\n",
    "\n",
    "    # Create a target variable y that is 1 when the orientation is 45 degrees and 0 otherwise\n",
    "    #target_orientation = 45\n",
    "    #y = (stim_table.loc[selected_sweeps, 'orientation'] == target_orientation).astype(int)\n",
    "\n",
    "    # and set X to the response of the first cell from above, making sure it has shape (n_trials, 1)\n",
    "    X = selected_responses[:,cells_index]\n",
    "\n",
    "    le = LabelEncoder()\n",
    "    y = le.fit_transform(stim_table.loc[:, 'orientation'])\n",
    "    # print(X.mean())\n",
    "\n",
    "    return X, y, mean_sweep_response.columns\n",
    "\n",
    "def feature_importance(X, y):\n",
    "    model = RandomForestClassifier(n_estimators=100, random_state=42)\n",
    "    model.fit(X, y)\n",
    "    importances = model.feature_importances_\n",
    "\n",
    "    return importances\n",
    "\n",
    "def plot_feature_importance(importances, neuron_ids):\n",
    "    sns.barplot(x=neuron_ids, y=importances, palette='viridis', legend=False )\n",
    "    plt.title('Feature Importance in Neural Encoding')\n",
    "    plt.xlabel('Neuron ID')\n",
    "    plt.ylabel('Importance')\n",
    "    plt.show()\n",
    "\n",
    "def evaluate_sessions(session_ids):\n",
    "    session_importances = []\n",
    "\n",
    "    for session_id in session_ids:\n",
    "        X, y, neuron_ids = norm_sweep_response(session_id)\n",
    "        importances = feature_importance(X, y)\n",
    "        session_importances.append(importances)\n",
    "\n",
    "        # Optionally visualize the importance for each session\n",
    "        plot_feature_importance(importances, neuron_ids)\n",
    "\n",
    "\n",
    "    return avg_importance\n",
    "\n",
    "# Example usage\n",
    "session_ids = [704298735, 545446482, 657078119, 663485329, 652091264, 657390171,\n",
    "       510514474, 501704220, 612543999, 683257169, 502205092, 526504941,\n",
    "       658518486, 661437140, 501271265, 501836392, 672206735, 688678766,\n",
    "       652842572, 583279803, 653125130, 650079244, 510517131, 606353987,\n",
    "       670395999, 671164733, 680156911, 540684467, 667364442, 675477919,\n",
    "       692345003, 670728674, 502115959, 652094901, 657775947] # List your session IDs\n",
    "avg_importance = evaluate_sessions(session_ids)\n"
   ]
  },
  {
   "cell_type": "code",
   "execution_count": null,
   "id": "d136ebdf",
   "metadata": {},
   "outputs": [],
   "source": []
  }
 ],
 "metadata": {
  "kernelspec": {
   "display_name": "Python 3",
   "language": "python",
   "name": "python3"
  },
  "language_info": {
   "codemirror_mode": {
    "name": "ipython",
    "version": 3
   },
   "file_extension": ".py",
   "mimetype": "text/x-python",
   "name": "python",
   "nbconvert_exporter": "python",
   "pygments_lexer": "ipython3",
   "version": "3.8.5"
  }
 },
 "nbformat": 4,
 "nbformat_minor": 5
}
